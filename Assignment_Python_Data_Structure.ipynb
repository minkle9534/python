{
  "nbformat": 4,
  "nbformat_minor": 0,
  "metadata": {
    "colab": {
      "provenance": []
    },
    "kernelspec": {
      "name": "python3",
      "display_name": "Python 3"
    },
    "language_info": {
      "name": "python"
    }
  },
  "cells": [
    {
      "cell_type": "markdown",
      "source": [
        "## Data Types and Structures Questions\n"
      ],
      "metadata": {
        "id": "UTcBE9ZPv8DY"
      }
    },
    {
      "cell_type": "markdown",
      "source": [
        "1. What are data structures, and why are they important ?\n",
        "-> A data structure is a way of organing and storing data so that it can be accessed and used efficiently.                                                    \n",
        "It is impotant because of its efficiency, Problem solving skill and they make the code easier to understand."
      ],
      "metadata": {
        "id": "iWLCQb0tw8Sl"
      }
    },
    {
      "cell_type": "markdown",
      "source": [
        " 2. Explain the difference between mutable and immutable data types with examples.                                         \n",
        "  -> . Mutable Data Types - These are data types whose values can be modified after they are created. Examples: List, dictonary, Set.\n",
        "\n",
        "      .Immutable Date Types - These are data types whose values cannot be altered once they aye set. Examples: String, Tuple.\n",
        "\n",
        "\n"
      ],
      "metadata": {
        "id": "HVUDLor3zoxu"
      }
    },
    {
      "cell_type": "markdown",
      "source": [
        "3.  What are the main differences between lists and tuples in Python?           \n",
        "    -> Lists:\n",
        "        It is mutable. Their elements can be modified after creation. We can add, remove, or change items in a list.\n",
        "      Tuples:\n",
        "         It is immutable. Their elements can not be changed once the tuples is created. We can not add,remove, or modifiy itemsin a tuple.\n"
      ],
      "metadata": {
        "id": "41YXUvHG2Cda"
      }
    },
    {
      "cell_type": "markdown",
      "source": [
        "   4. Describe how dictionaries store data.                \n",
        "       -> Dictionaries in Python store data as a key-value pairs. Each key acts as a unique identifier for its associated value. This stucture allows for efficient retrieval of values based on their corresponding keys.\n",
        "\n"
      ],
      "metadata": {
        "id": "J3zrhZSX2CaV"
      }
    },
    {
      "cell_type": "markdown",
      "source": [
        "   5. Why might you use a set instead of a list in Python?           \n",
        "     ->  Because sets cannot have multiple occurrences of the same element, it makes sets highly useful to efficently remove duplicate values from a list or tuple and to perform common maths operations like union and intersections."
      ],
      "metadata": {
        "id": "6IlN3FUd2CW8"
      }
    },
    {
      "cell_type": "markdown",
      "source": [
        " 6.  What is a string in Python, and how is it different from a lists ?       \n",
        "    -> A string is a sequence of characters between single or double quotes.    \n",
        "       A list is a sequence of items, where each item could be anything(an integer,a float,a string, etc)."
      ],
      "metadata": {
        "id": "-u0iotCX2CTh"
      }
    },
    {
      "cell_type": "markdown",
      "source": [
        " 7.  How do tuples ensure data integrity in Python?       \n",
        "     -> Tuples in Python ensure data integrity primarily through their immutability. Once a tuple is created, its elements can not be modified, added, or removed."
      ],
      "metadata": {
        "id": "uLreYhUi2CFb"
      }
    },
    {
      "cell_type": "markdown",
      "source": [
        "  8.  What is a hash table, and how does it relate to dictionaries in Python?    \n",
        "     -> A hash table is a data structure that stores key-value pairs. In Python, dictionaries are implemented using hash table."
      ],
      "metadata": {
        "id": "FED385dr2B9l"
      }
    },
    {
      "cell_type": "markdown",
      "source": [
        "  9. Can lists contain different data types in Python?                 \n",
        "\n",
        "    -> yes, lists can contain  heterogeneous data types and objects."
      ],
      "metadata": {
        "id": "rguQLbYx2B1g"
      }
    },
    {
      "cell_type": "markdown",
      "source": [
        " 10. Explain why strings are immutable in Python?     \n",
        "  -> Strings in Python are \"immutable\" which means they can not be changed after they are created. Strings are made immutable so that programmers cannot alter the contents of object. This avoids unnecessary bugs."
      ],
      "metadata": {
        "id": "B2x9IVwg2BtM"
      }
    },
    {
      "cell_type": "markdown",
      "source": [
        "  11.  What advantages do dictionaries offer over lists for certain tasks?      \n",
        "     -> Dictionaries excel in tasks involving fast data retrieval, key-value association, and complex data mappings, while lists are better suited for ordered collections, sequential processing, and simpler data storage."
      ],
      "metadata": {
        "id": "oEsEtbhD2Bkm"
      }
    },
    {
      "cell_type": "markdown",
      "source": [
        "12. Describe a scenario where using a tuple would be preferable over a lists.      \n",
        "  -> When we store the day of the week,we store it in tuple instead of list.\n",
        "     These values are fixed and using tuoles will prevent accidental modify."
      ],
      "metadata": {
        "id": "TnfczySb2BYD"
      }
    },
    {
      "cell_type": "markdown",
      "source": [
        "  13.How do sets handle duplicate values in Python?            \n",
        "   -> In Python, sets are designed to store only unique elements. When we attempt to add a duplicate value to a set, it simply ignores the duplicate and retains only one instance of that value."
      ],
      "metadata": {
        "id": "2YRsIWDl2AZq"
      }
    },
    {
      "cell_type": "markdown",
      "source": [
        " 14.  How does the “in” keyword work differently for lists and dictionaries?    \n",
        "     ->  The \"in\" keyword inPython operates differently for lists and dictionaries.         \n",
        "     Lists:\n",
        "       . When used with a list, the \"in\" keyword checks if specified value exists as an element within the list by iterating through each element.    \n",
        "   Dictionaries:\n",
        "       .When used with a dictionary, the \"in\" keyword checks if the specified value exists as a key within the dictionary.\n"
      ],
      "metadata": {
        "id": "QNoAlCiwWc3u"
      }
    },
    {
      "cell_type": "markdown",
      "source": [
        " 15. Can you modify the elements of a tuple? Explain why or why not.    \n",
        "     ->  No, We can not directly modify the elements of a tuple in Python. As tuple are immutable their contents cannot be changed after creation."
      ],
      "metadata": {
        "id": "0O2KA82lWcwx"
      }
    },
    {
      "cell_type": "markdown",
      "source": [
        "  16.  What is a nested dictionary, and give an example of its use case?    \n",
        "      -> A nested dictionary is a dictionary where at least one of the values is itself a dictionary.        \n",
        "\n",
        "       Example:\n",
        "        Consider represnting employee information. We might have dictionary where the keys are empolyee IDs, and the values are dictionaries containing the empolyee's name, address, and other details.    \n",
        "      Use Cases:       \n",
        "\n",
        "      .Represnting hierarchial data     \n",
        "      \n",
        "      .Organizing Inventory."
      ],
      "metadata": {
        "id": "NPPkhI7cWcm5"
      }
    },
    {
      "cell_type": "markdown",
      "source": [
        " 17.  Describe the time complexity of accessing elements in a dictionary.    \n",
        "      -> The time complexity of inserting an element in dictionary is typically 0(1). This is because dictionaries use hash table internally which allows constant time lookup."
      ],
      "metadata": {
        "id": "D6ohU3egWcaZ"
      }
    },
    {
      "cell_type": "markdown",
      "source": [
        ": 18. In what situations are lists preferred over dictionaries ?    \n",
        "      -> Lists are preferred over dictionaries in situations where maintaining the order of element is important, or when elements are accessed based on their numerical index.\n",
        "  "
      ],
      "metadata": {
        "id": "tO6_yNsYWcOV"
      }
    },
    {
      "cell_type": "markdown",
      "source": [
        " 19.  Why are dictionaries considered unordered, and how does that affect data retrieval?       \n",
        "  -> Dictionaries are considered unordered becaue they do not store items in a specific sequence based on their insertion order."
      ],
      "metadata": {
        "id": "NqwppLBdmnQh"
      }
    },
    {
      "cell_type": "markdown",
      "source": [
        "   20.  Explain the difference between a list and a dictionary in terms of data retrieval.           \n",
        "     -> In data retrieval, lists and dictionaries differ fundatementally.\n",
        "      Lists are accessed by numerical indices (starting from 0), while dictionaries are accessed via unique keys."
      ],
      "metadata": {
        "id": "gJvqeYsrmmDu"
      }
    },
    {
      "cell_type": "markdown",
      "source": [
        "# Practical Questions"
      ],
      "metadata": {
        "id": "ZNWoJt-Nmlre"
      }
    },
    {
      "cell_type": "code",
      "source": [
        "# 1. Write a code to create a string with your name and print it.\n",
        "name = \"minkle\"\n",
        "print(name)"
      ],
      "metadata": {
        "id": "UbKQkajNmjcc",
        "colab": {
          "base_uri": "https://localhost:8080/"
        },
        "outputId": "a8f908a6-215c-48e0-9713-9d1ded4506a8"
      },
      "execution_count": null,
      "outputs": [
        {
          "output_type": "stream",
          "name": "stdout",
          "text": [
            "minkle\n"
          ]
        }
      ]
    },
    {
      "cell_type": "code",
      "source": [
        "# 2.  Write a code to find the length of the string \"Hello World\".\n",
        "string =\"Hello World\"\n",
        "len = len(string)\n",
        "print(len)"
      ],
      "metadata": {
        "id": "48Afuu5-wtlv",
        "colab": {
          "base_uri": "https://localhost:8080/"
        },
        "outputId": "b2e966ff-74db-4d6c-8071-817a2b8178d7"
      },
      "execution_count": null,
      "outputs": [
        {
          "output_type": "stream",
          "name": "stdout",
          "text": [
            "11\n"
          ]
        }
      ]
    },
    {
      "cell_type": "code",
      "execution_count": null,
      "metadata": {
        "id": "RtYaZJhcv40d",
        "colab": {
          "base_uri": "https://localhost:8080/"
        },
        "outputId": "79cab355-f836-4955-b693-65cd1b0c6b36"
      },
      "outputs": [
        {
          "output_type": "stream",
          "name": "stdout",
          "text": [
            "Pyt\n"
          ]
        }
      ],
      "source": [
        "# 3.  Write a code to slice the first 3 characters from the string \"Python Programming\".\n",
        "string = \"Python Programming\"\n",
        "sliced_string = string[:3]\n",
        "print(sliced_string)"
      ]
    },
    {
      "cell_type": "code",
      "source": [
        " # 4. Write a code to convert the string \"hello\" to uppercase.\n",
        " text = \"hello\"\n",
        " upper_case = text.upper()\n",
        " print(upper_case)"
      ],
      "metadata": {
        "colab": {
          "base_uri": "https://localhost:8080/"
        },
        "id": "6AcJvqq_VZAT",
        "outputId": "ed5ef0e9-eb03-4cf6-ed7f-831d62ac8ed4"
      },
      "execution_count": null,
      "outputs": [
        {
          "output_type": "stream",
          "name": "stdout",
          "text": [
            "HELLO\n"
          ]
        }
      ]
    },
    {
      "cell_type": "code",
      "source": [
        " # 5.  Write a code to replace the word \"apple\" with \"orange\" in the string \"I like apple\".\n",
        "text = \"I like apple\"\n",
        "new_text = text.replace(\"apple\",\"orange\")\n",
        "print(new_text)"
      ],
      "metadata": {
        "colab": {
          "base_uri": "https://localhost:8080/"
        },
        "id": "SLfM4h7mVYof",
        "outputId": "3ec93350-1c85-4763-9841-24c4d2aec397"
      },
      "execution_count": null,
      "outputs": [
        {
          "output_type": "stream",
          "name": "stdout",
          "text": [
            "I like orange\n"
          ]
        }
      ]
    },
    {
      "cell_type": "code",
      "source": [
        " # 6. Write a code to create a list with numbers 1 to 5 and print it.\n",
        " my_list = [1,2,3,4,5]\n",
        " print(my_list)"
      ],
      "metadata": {
        "colab": {
          "base_uri": "https://localhost:8080/"
        },
        "id": "9PLo8nQpW03q",
        "outputId": "aa4c9497-bd13-4a0e-a8b4-1608886e4d44"
      },
      "execution_count": null,
      "outputs": [
        {
          "output_type": "stream",
          "name": "stdout",
          "text": [
            "[1, 2, 3, 4, 5]\n"
          ]
        }
      ]
    },
    {
      "cell_type": "code",
      "source": [
        " # 7. Write a code to append the number 10 to the list [1, 2, 3, 4].\n",
        " my_list = [1,2,3,4]\n",
        " my_list.append(10)\n",
        " print(my_list)"
      ],
      "metadata": {
        "colab": {
          "base_uri": "https://localhost:8080/"
        },
        "id": "NihU1nzYXYU2",
        "outputId": "82337bef-c2d2-4b11-d2fd-305323a13e54"
      },
      "execution_count": null,
      "outputs": [
        {
          "output_type": "stream",
          "name": "stdout",
          "text": [
            "[1, 2, 3, 4, 10]\n"
          ]
        }
      ]
    },
    {
      "cell_type": "code",
      "source": [
        " # 8. Write a code to remove the number 3 from the list [1, 2, 3, 4, 5].\n",
        " my_list = [1,2,3,4,5]\n",
        " my_list.remove(3)\n",
        " print(my_list)"
      ],
      "metadata": {
        "colab": {
          "base_uri": "https://localhost:8080/"
        },
        "id": "tZCBQFQAYokD",
        "outputId": "4bc38fbb-a156-43fe-bc6d-e98644ab7585"
      },
      "execution_count": null,
      "outputs": [
        {
          "output_type": "stream",
          "name": "stdout",
          "text": [
            "[1, 2, 4, 5]\n"
          ]
        }
      ]
    },
    {
      "cell_type": "code",
      "source": [
        " # 9. Write a code to access the second element in the list ['a', 'b', 'c', 'd'].\n",
        " my_list = ['a','b','c','d']\n",
        " second_element = my_list[1]\n",
        " print(second_element)"
      ],
      "metadata": {
        "colab": {
          "base_uri": "https://localhost:8080/"
        },
        "id": "Ghv3_X61Z0-3",
        "outputId": "f33f445c-0ab1-421c-bfb9-9cf9b7069390"
      },
      "execution_count": null,
      "outputs": [
        {
          "output_type": "stream",
          "name": "stdout",
          "text": [
            "b\n"
          ]
        }
      ]
    },
    {
      "cell_type": "code",
      "source": [
        "# 10. Write a code to reverse the list [10, 20, 30, 40, 50].\n",
        "Original_list = [10, 20, 30, 40, 50]\n",
        "Reversed_list = Original_list[::-1]\n",
        "print(Reversed_list)"
      ],
      "metadata": {
        "colab": {
          "base_uri": "https://localhost:8080/"
        },
        "id": "th-Wc2eZaHRp",
        "outputId": "b43489fa-200a-4227-a910-e7d1d0bcabf7"
      },
      "execution_count": null,
      "outputs": [
        {
          "output_type": "stream",
          "name": "stdout",
          "text": [
            "[50, 40, 30, 20, 10]\n"
          ]
        }
      ]
    },
    {
      "cell_type": "code",
      "source": [
        " # 11. Write a code to create a tuple with the elements 100, 200, 300 and print it.\n",
        " my_tuple = (100,200,300)\n",
        " print(my_tuple)"
      ],
      "metadata": {
        "colab": {
          "base_uri": "https://localhost:8080/"
        },
        "id": "dsMl35sFatcf",
        "outputId": "ddb67db0-50ea-4267-d332-9b83b7bef99f"
      },
      "execution_count": null,
      "outputs": [
        {
          "output_type": "stream",
          "name": "stdout",
          "text": [
            "(100, 200, 300)\n"
          ]
        }
      ]
    },
    {
      "cell_type": "code",
      "source": [
        " # 12. Write a code to access the second-to-last element of the tuple ('red', 'green', 'blue', 'yellow').\n",
        " colors = ('red', 'green', 'blue', 'yellow')\n",
        " second_to_last = colors[-2]\n",
        " print(second_to_last)\n",
        "\n"
      ],
      "metadata": {
        "colab": {
          "base_uri": "https://localhost:8080/"
        },
        "id": "il3RRJVobG_L",
        "outputId": "50e176a4-933b-4db3-a801-4d99b9238231"
      },
      "execution_count": null,
      "outputs": [
        {
          "output_type": "stream",
          "name": "stdout",
          "text": [
            "blue\n"
          ]
        }
      ]
    },
    {
      "cell_type": "code",
      "source": [
        "# 13.  Write a code to find the minimum number in the tuple (10, 20, 5, 15).\n",
        "my_tuple = (10,20,5,15)\n",
        "minimum = min(my_tuple)\n",
        "print(minimum)"
      ],
      "metadata": {
        "colab": {
          "base_uri": "https://localhost:8080/"
        },
        "id": "FaECsJgrbt60",
        "outputId": "bb7510ce-db57-4917-ea30-b95c4ad2fcd3"
      },
      "execution_count": null,
      "outputs": [
        {
          "output_type": "stream",
          "name": "stdout",
          "text": [
            "5\n"
          ]
        }
      ]
    },
    {
      "cell_type": "code",
      "source": [
        " # 14. Write a code to find the index of the element \"cat\" in the tuple ('dog', 'cat', 'rabbit')\n",
        " my_tuple = ('dog', 'cat', 'rabbit')\n",
        " index_of_cat = my_tuple.index('cat')\n",
        " print(index_of_cat)"
      ],
      "metadata": {
        "colab": {
          "base_uri": "https://localhost:8080/"
        },
        "id": "048zfTCCcBk9",
        "outputId": "ae62dd23-48b8-4b53-912d-35e09829fd11"
      },
      "execution_count": null,
      "outputs": [
        {
          "output_type": "stream",
          "name": "stdout",
          "text": [
            "1\n"
          ]
        }
      ]
    },
    {
      "cell_type": "code",
      "source": [
        " # 15.  Write a code to create a tuple containing three different fruits and check if \"kiwi\" is in it.\n",
        " fruits_tuple = (\"apple\",\"banana\",\"orange\")\n",
        " if \"kiwi\" in fruits_tuple:\n",
        "  print(f\"kiwi is in the tuple\")\n",
        " else:\n",
        "  print(f\"kiwi is not in the tuple\")"
      ],
      "metadata": {
        "colab": {
          "base_uri": "https://localhost:8080/"
        },
        "id": "f9qkPHWlcZU7",
        "outputId": "f66bbfac-d7c8-4487-ede9-3f22c6cf3666"
      },
      "execution_count": null,
      "outputs": [
        {
          "output_type": "stream",
          "name": "stdout",
          "text": [
            "kiwi is not in the tuple\n"
          ]
        }
      ]
    },
    {
      "cell_type": "code",
      "source": [
        " # 16. Write a code to create a set with the elements 'a', 'b', 'c' and print it.\n",
        " my_set = {'a','b','c'}\n",
        " print(my_set)"
      ],
      "metadata": {
        "colab": {
          "base_uri": "https://localhost:8080/"
        },
        "id": "8rfw8bBbdtfx",
        "outputId": "f21f2579-477d-4001-f7e7-e620d43aedf8"
      },
      "execution_count": null,
      "outputs": [
        {
          "output_type": "stream",
          "name": "stdout",
          "text": [
            "{'c', 'a', 'b'}\n"
          ]
        }
      ]
    },
    {
      "cell_type": "code",
      "source": [
        " # 17.  Write a code to clear all elements from the set {1, 2, 3, 4, 5}.\n",
        " my_set = {1,2,3,4,5}\n",
        " my_set.clear()\n",
        " print(my_set)"
      ],
      "metadata": {
        "colab": {
          "base_uri": "https://localhost:8080/"
        },
        "id": "IK8Qw3MaehRn",
        "outputId": "bd43a7cd-b6b0-4749-fc5c-2065245a637f"
      },
      "execution_count": null,
      "outputs": [
        {
          "output_type": "stream",
          "name": "stdout",
          "text": [
            "set()\n"
          ]
        }
      ]
    },
    {
      "cell_type": "code",
      "source": [
        " # 18. Write a code to remove the element 4 from the set {1, 2, 3, 4}.\n",
        " my_set = {1,2,3,4}\n",
        " my_set.remove(4)\n",
        " print(my_set)"
      ],
      "metadata": {
        "colab": {
          "base_uri": "https://localhost:8080/"
        },
        "id": "zkxxc1e3fKsz",
        "outputId": "d92ba1ff-de3a-4c1a-e2d9-d9792139677f"
      },
      "execution_count": null,
      "outputs": [
        {
          "output_type": "stream",
          "name": "stdout",
          "text": [
            "{1, 2, 3}\n"
          ]
        }
      ]
    },
    {
      "cell_type": "code",
      "source": [
        " # 19.  Write a code to find the union of two sets {1, 2, 3} and {3, 4, 5}.\n",
        " set1 = {1,2,3}\n",
        " set2 = {3,4,5}\n",
        " union_set = set1 | set2\n",
        " print(union_set)"
      ],
      "metadata": {
        "colab": {
          "base_uri": "https://localhost:8080/"
        },
        "id": "gNHbjX52fftQ",
        "outputId": "cb11c882-4cb8-4683-b5c0-1419d5e32148"
      },
      "execution_count": null,
      "outputs": [
        {
          "output_type": "stream",
          "name": "stdout",
          "text": [
            "{1, 2, 3, 4, 5}\n"
          ]
        }
      ]
    },
    {
      "cell_type": "code",
      "source": [
        " # 20. Write a code to find the intersection of two sets {1, 2, 3} and {2, 3, 4}.\n",
        " set1 = {1,2,3}\n",
        " set2 = {2,3,4}\n",
        " intersection_set = set1 & set2\n",
        " print(intersection_set)"
      ],
      "metadata": {
        "colab": {
          "base_uri": "https://localhost:8080/"
        },
        "id": "gKRVZwLNfzdL",
        "outputId": "2df78e59-4380-4ecc-b8fa-e5be491c4aa8"
      },
      "execution_count": null,
      "outputs": [
        {
          "output_type": "stream",
          "name": "stdout",
          "text": [
            "{2, 3}\n"
          ]
        }
      ]
    },
    {
      "cell_type": "code",
      "source": [
        " # 21. Write a code to create a dictionary with the keys \"name\", \"age\", and \"city\", and print it.\n",
        " my_dict = {\"name\":\"minkle\",\"age\":25,\"city\":\"giridih\"}\n",
        " print(my_dict)"
      ],
      "metadata": {
        "colab": {
          "base_uri": "https://localhost:8080/"
        },
        "id": "YJ6h9XHXgd-R",
        "outputId": "989f5a43-a7a6-43cc-cef4-1b01cd8b361d"
      },
      "execution_count": null,
      "outputs": [
        {
          "output_type": "stream",
          "name": "stdout",
          "text": [
            "{'name': 'minkle', 'age': 25, 'city': 'giridih'}\n"
          ]
        }
      ]
    },
    {
      "cell_type": "code",
      "source": [
        " # 22. Write a code to add a new key-value pair \"country\": \"USA\" to the dictionary {'name': 'John', 'age': 25}.\n",
        " my_dict = {'name': 'John', 'age': 25}\n",
        " my_dict[\"country\"] = \"USA\"\n",
        " print(my_dict)"
      ],
      "metadata": {
        "colab": {
          "base_uri": "https://localhost:8080/"
        },
        "id": "mrQLU7DwhKjy",
        "outputId": "b74690c1-e1e8-444c-8260-ce515cc12275"
      },
      "execution_count": null,
      "outputs": [
        {
          "output_type": "stream",
          "name": "stdout",
          "text": [
            "{'name': 'John', 'age': 25, 'country': 'USA'}\n"
          ]
        }
      ]
    },
    {
      "cell_type": "code",
      "source": [
        " # 23. Write a code to access the value associated with the key \"name\" in the dictionary {'name': 'Alice', 'age': 30}\n",
        " my_dict = {'name': 'Alice', 'age': 30}\n",
        " name_value = my_dict[\"name\"]\n",
        " print(name_value)"
      ],
      "metadata": {
        "colab": {
          "base_uri": "https://localhost:8080/"
        },
        "id": "23EiOC5gs5DM",
        "outputId": "840cc701-cf59-4c19-c795-d83f772abb15"
      },
      "execution_count": null,
      "outputs": [
        {
          "output_type": "stream",
          "name": "stdout",
          "text": [
            "Alice\n"
          ]
        }
      ]
    },
    {
      "cell_type": "code",
      "source": [
        " # 24. Write a code to remove the key \"age\" from the dictionary {'name': 'Bob', 'age': 22, 'city': 'New York'}.\n",
        " my_dict = {'name': 'Bob', 'age': 22, 'city': 'New York'}\n",
        " del my_dict[\"age\"]\n",
        " print(my_dict)"
      ],
      "metadata": {
        "colab": {
          "base_uri": "https://localhost:8080/"
        },
        "id": "tDHVhzoUtPxv",
        "outputId": "96c8caa3-7814-4a75-9168-83817791ae3a"
      },
      "execution_count": null,
      "outputs": [
        {
          "output_type": "stream",
          "name": "stdout",
          "text": [
            "{'name': 'Bob', 'city': 'New York'}\n"
          ]
        }
      ]
    },
    {
      "cell_type": "code",
      "source": [
        "# 25. Write a code to check if the key \"city\" exists in the dictionary {'name': 'Alice', 'city': 'Paris'}\n",
        "my_dict = {'name': 'Alice', 'city': 'Paris'}\n",
        "if \"city\" in my_dict:\n",
        "  print(f\"city is in the dictionary\")\n",
        "else:\n",
        "  print(f\"city is not in the dictionary\")"
      ],
      "metadata": {
        "colab": {
          "base_uri": "https://localhost:8080/"
        },
        "id": "OrWDsmboujho",
        "outputId": "0c1e3c99-3335-46d9-9224-298ac7762e30"
      },
      "execution_count": null,
      "outputs": [
        {
          "output_type": "stream",
          "name": "stdout",
          "text": [
            "city is in the dictionary\n"
          ]
        }
      ]
    },
    {
      "cell_type": "code",
      "source": [
        " # 26.  Write a code to create a list, a tuple, and a dictionary, and print them all.\n",
        " my_list = [1,2,3,4,5]\n",
        " my_tuple = (4,5,6,\"cat\",\"dog\")\n",
        " my_dict = {\"name\":\"minkle\",\"age\":25,\"city\":\"giridih\"}\n",
        " print(my_list)\n",
        " print(my_tuple)\n",
        " print(my_dict)"
      ],
      "metadata": {
        "colab": {
          "base_uri": "https://localhost:8080/"
        },
        "id": "UQ1voBKsvGHG",
        "outputId": "007bc4b0-ba41-4d08-935e-0244098f6948"
      },
      "execution_count": null,
      "outputs": [
        {
          "output_type": "stream",
          "name": "stdout",
          "text": [
            "[1, 2, 3, 4, 5]\n",
            "(4, 5, 6, 'cat', 'dog')\n",
            "{'name': 'minkle', 'age': 25, 'city': 'giridih'}\n"
          ]
        }
      ]
    },
    {
      "cell_type": "code",
      "source": [
        " # 27. write a code to create a list of 5 random numbers between 1 and 100, sort it in ascending order, and print the result.(replaced)\n",
        "import random\n",
        "random_numbers = [random.randint(1,100) for _ in range(5)]\n",
        "random_numbers.sort()\n",
        "print(random_numbers)"
      ],
      "metadata": {
        "colab": {
          "base_uri": "https://localhost:8080/"
        },
        "id": "xkUIsF5hvsFu",
        "outputId": "c5de0303-785b-4c58-bf55-e757f254550a"
      },
      "execution_count": null,
      "outputs": [
        {
          "output_type": "stream",
          "name": "stdout",
          "text": [
            "[26, 36, 47, 48, 69]\n"
          ]
        }
      ]
    },
    {
      "cell_type": "code",
      "source": [
        " # 28. Write a code to create a list with strings and print the element at the third index.\n",
        " string_list = [\"apple\",\"banana\",\"orange\",\"kiwi\",\"mango\"]\n",
        " third_element = string_list[2]\n",
        " print(third_element)\n"
      ],
      "metadata": {
        "colab": {
          "base_uri": "https://localhost:8080/"
        },
        "id": "mBvz9L1LyHPA",
        "outputId": "2260444b-cf19-482f-c4b6-59c232d117e9"
      },
      "execution_count": null,
      "outputs": [
        {
          "output_type": "stream",
          "name": "stdout",
          "text": [
            "orange\n"
          ]
        }
      ]
    },
    {
      "cell_type": "code",
      "source": [
        " # 29. Write a code to combine two dictionaries into one and print the result.\n",
        "dic_a = {'a':1,'b':2}\n",
        "dic_b = {'c':3,'d':4}\n",
        "combined_dic = dic_a | dic_b\n",
        "print(combined_dic)"
      ],
      "metadata": {
        "colab": {
          "base_uri": "https://localhost:8080/"
        },
        "id": "1e9FhcxfzcPe",
        "outputId": "61aefd67-4aea-4a35-d596-ac484196e03a"
      },
      "execution_count": null,
      "outputs": [
        {
          "output_type": "stream",
          "name": "stdout",
          "text": [
            "{'a': 1, 'b': 2, 'c': 3, 'd': 4}\n"
          ]
        }
      ]
    },
    {
      "cell_type": "code",
      "source": [
        " # 30. Write a code to convert a list of strings into a set.\n",
        " string_list = [\"apple\",\"banana\",\"orange\",\"kiwi\",\"mango\"]\n",
        " string_set = set(string_list)\n",
        " print(string_set)\n"
      ],
      "metadata": {
        "colab": {
          "base_uri": "https://localhost:8080/"
        },
        "id": "CpqiDcOE0GHu",
        "outputId": "9204fc76-10f2-4e4a-c7e3-ee91aaac2f1c"
      },
      "execution_count": null,
      "outputs": [
        {
          "output_type": "stream",
          "name": "stdout",
          "text": [
            "{'banana', 'apple', 'kiwi', 'mango', 'orange'}\n"
          ]
        }
      ]
    },
    {
      "cell_type": "code",
      "source": [],
      "metadata": {
        "id": "o7LVKxCH0VpC"
      },
      "execution_count": null,
      "outputs": []
    }
  ]
}