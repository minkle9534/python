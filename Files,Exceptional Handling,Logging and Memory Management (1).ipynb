{
 "cells": [
  {
   "cell_type": "markdown",
   "metadata": {
    "id": "aAA1QXUvZH3I"
   },
   "source": [
    "# **Assignment Name - Files, Exceptional Handling, Logging and Memory Management - Maheshwari Shinde**"
   ]
  },
  {
   "cell_type": "markdown",
   "metadata": {
    "id": "m-697u1xVUvQ"
   },
   "source": [
    "#  Section 1 : Python Basics Questions"
   ]
  },
  {
   "cell_type": "markdown",
   "metadata": {
    "id": "gJNe2gdvO1qE"
   },
   "source": [
    "**Q.1  What is the difference between interpreted and compiled languages?**\n",
    "\n",
    "Ans:\n",
    "\n",
    "- **Interpreted language**s (like Python) execute code line-by-line, offering easier debugging and portability.\n",
    "\n",
    "- **Compiled languages** (like C/C++) translate the whole program into machine code before execution, offering faster performance.\n",
    "\n",
    "- Example: Python (interpreted), C (compiled).  \n",
    "\n",
    "- Python is an interpreted language, which means it executes code line-by-line using an interpreter.\n",
    "\n"
   ]
  },
  {
   "cell_type": "markdown",
   "metadata": {
    "id": "PgzNN6LbI073"
   },
   "source": [
    "| Feature             | Compiled Language                                             | Interpreted Language                                     |\n",
    "| ------------------- | ------------------------------------------------------------- | -------------------------------------------------------- |\n",
    "| **Translation**     | Translates the entire code into machine code before execution | Translates and executes code line-by-line during runtime |\n",
    "| **Execution Speed** | Faster, as it's precompiled                                   | Slower, due to real-time interpretation                  |\n",
    "| **Error Handling**  | All errors are shown after compilation                        | Errors are shown line-by-line during execution           |\n",
    "| **Examples**        | C, C++, Go, Rust                                              | Python, JavaScript, Ruby                                 |\n",
    "| **Output**          | Generates a separate executable file (.exe)                   | No separate file; runs directly with the interpreter     |\n",
    "| **Portability**     | Less portable (machine-specific binaries)                     | Highly portable (just need interpreter)                  |\n",
    "| **Debugging**       | Harder (entire code must compile)                             | Easier (errors appear immediately)                       |\n"
   ]
  },
  {
   "cell_type": "markdown",
   "metadata": {
    "id": "Ss_knpbahyQl"
   },
   "source": [
    "**Q.2 What is exception handling in Python?**\n",
    "\n",
    "Ans:\n",
    "\n",
    "- Exception handling in Python is a way to handle errors or unexpected events that occur during program execution, without crashing the program.\n",
    "\n",
    "- Helps maintain robustness of the program.\n",
    "\n",
    "-  It uses try, except, else, and finally blocks.\n",
    "\n",
    "-  Common keywords:\n",
    "   - try: Runs code that might raise an exception\n",
    "   - except: Code that runs if an exception occurs. / Catches and handles specific exceptions\n",
    "   - else: Runs only if try block does not raise any exceptions\n",
    "   - finally: Always runs, whether or not an exception occurred.\n",
    "   \n",
    "- Exception handling helps you catch and manage errors during runtime, making your code more reliable and user-friendly.\n",
    "\n"
   ]
  },
  {
   "cell_type": "code",
   "execution_count": 40,
   "metadata": {
    "colab": {
     "base_uri": "https://localhost:8080/"
    },
    "id": "MVJ_SwiqJVl-",
    "outputId": "6fb07112-a521-4593-fb2d-024bcd0cb9de"
   },
   "outputs": [
    {
     "name": "stdout",
     "output_type": "stream",
     "text": [
      "Division successful. Result = 5.0\n",
      "Execution of divide_numbers() is complete.\n",
      "Error: Cannot divide by zero.\n",
      "Execution of divide_numbers() is complete.\n"
     ]
    }
   ],
   "source": [
    "#example:\n",
    "def divide_numbers(a, b):\n",
    "    try:\n",
    "        # Code that might raise an exception\n",
    "        result = a / b\n",
    "    except ZeroDivisionError:\n",
    "        # Executes only if a ZeroDivisionError occurs\n",
    "        print(\"Error: Cannot divide by zero.\")\n",
    "    else:\n",
    "        # Executes only if no exception occurs in try block\n",
    "        print(f\"Division successful. Result = {result}\")\n",
    "    finally:\n",
    "        # Executes no matter what (exception or not)\n",
    "        print(\"Execution of divide_numbers() is complete.\")\n",
    "\n",
    "# Example 1: Successful division\n",
    "divide_numbers(10, 2)\n",
    "\n",
    "# Example 2: Division by zero\n",
    "divide_numbers(5, 0)\n"
   ]
  },
  {
   "cell_type": "markdown",
   "metadata": {
    "id": "3VrIy4i0il6B"
   },
   "source": [
    "**Q.3 What is  the purpose of the finally block in exception handling?**\n",
    "\n",
    "Ans:\n",
    "\n",
    "- The finally block in Python is used to define clean-up actions that must be executed no matter what happens — whether an exception was raised or not.  \n",
    "\n",
    "- Used to release resources like file handles or network connections.\n",
    "\n",
    "- It always runs, even if:\n",
    "  - An exception is raised.\n",
    "  - No exception is raised.\n",
    "\n",
    "- A return, break, or continue is used in the try or except block.\n",
    "\n",
    "- Ensure that important clean-up code runs regardless of what happens in the try or except blocks.\n"
   ]
  },
  {
   "cell_type": "code",
   "execution_count": 41,
   "metadata": {
    "colab": {
     "base_uri": "https://localhost:8080/"
    },
    "id": "OMh35gtXJih2",
    "outputId": "ae644a51-5788-47c0-cf24-29635946be9c"
   },
   "outputs": [
    {
     "name": "stdout",
     "output_type": "stream",
     "text": [
      "Error: You cannot divide by zero!\n",
      "Finished the division operation.\n"
     ]
    }
   ],
   "source": [
    "#Example:\n",
    "try:\n",
    "    # Try to divide 10 by 0 (will cause error)\n",
    "    result = 10 / 0\n",
    "except ZeroDivisionError:\n",
    "    # This runs if there is a division by zero error\n",
    "    print(\"Error: You cannot divide by zero!\")\n",
    "else:\n",
    "    # Runs if no error occurs\n",
    "    print(\"Division result is:\", result)\n",
    "finally:\n",
    "    # Always runs no matter what\n",
    "    print(\"Finished the division operation.\")\n",
    "\n"
   ]
  },
  {
   "cell_type": "markdown",
   "metadata": {
    "id": "mkrQfloVimEj"
   },
   "source": [
    "**Q.4 What is logging in Python?**\n",
    "\n",
    "Ans:\n",
    "- Logging is a way to record program events, errors, and flow.\n",
    "\n",
    "- More flexible and scalable than print statements.\n",
    "\n",
    "- Done using Python’s built-in logging module.\n",
    "\n",
    "- It helps you debug, monitor, and record the behavior of your code\n",
    "\n",
    "- especially useful for larger programs or applications.\n"
   ]
  },
  {
   "cell_type": "markdown",
   "metadata": {
    "id": "UeDu_ZkZP1Ho"
   },
   "source": [
    "Logging Levels:\n",
    "\n",
    "| **Level**    | **Purpose**                                                  |\n",
    "| ------------ | ------------------------------------------------------------ |\n",
    "| **DEBUG**    | Detailed information, useful for developers during debugging |\n",
    "| **INFO**     | General information about program execution                  |\n",
    "| **WARNING**  | Indicates something unexpected or a potential issue          |\n",
    "| **ERROR**    | A serious problem that affects program functionality         |\n",
    "| **CRITICAL** | A very serious error causing program failure                 |\n"
   ]
  },
  {
   "cell_type": "code",
   "execution_count": 42,
   "metadata": {
    "id": "SX3ygBzmJudm"
   },
   "outputs": [],
   "source": [
    "import logging\n",
    "logging.basicConfig(level=logging.INFO)\n",
    "logging.info(\"Program started\")\n"
   ]
  },
  {
   "cell_type": "markdown",
   "metadata": {
    "id": "KFGvCXzWimJ7"
   },
   "source": [
    "**Q.5 What is the significance of the __del__ method in Python**\n",
    "\n",
    "Ans:\n",
    "- When the object goes out of scope or is deleted, __del__ is called\n",
    "- The del method in Python is a special method known as a destructor.\n",
    "- It is called automatically when an object is about to be destroyed — usually when there are no more references to it.\n",
    "\n",
    "- Used to release non-memory resources (e.g., closing DB connections).\n",
    "\n",
    "- Note: Not always predictable due to garbage collection.\n",
    "\n",
    "\n",
    "\n",
    "- To perform clean-up tasks, such as:\n",
    "  - Closing files\n",
    "  - Releasing network or database connections\n",
    "  - Freeing up other external resources"
   ]
  },
  {
   "cell_type": "markdown",
   "metadata": {
    "id": "oeei7Ue4imOh"
   },
   "source": [
    "**Q.6 What is the difference between import and from ... import in Python**\n",
    "\n",
    "Ans:\n",
    "-  import module → You need to use the module name to access functions.\n",
    "\n",
    "-  from module import name → You can directly use the function/class."
   ]
  },
  {
   "cell_type": "markdown",
   "metadata": {
    "id": "FVCHHiB2numu"
   },
   "source": [
    " The difference between import and from ... import in Python:\n",
    "\n",
    "* import statement:\n",
    "\n",
    " - Imports the entire module\n",
    " - You need to use the module name as a prefix to access its contents\n",
    " - Creates a namespace for the module\n",
    " - import math import os\n",
    "\n",
    "   - Usage - need to prefix with module name\n",
    "   - result = math.sqrt(16) current_dir = os.getcwd()\n",
    "\n",
    "* from ... import statement:\n",
    "\n",
    " - Imports specific functions, classes, or variables from a module\n",
    " - Allows direct access without module prefix\n",
    " - Can import everything using * (not recommended)\n",
    "\n",
    " - from math import sqrt, pi from os import getcwd\n",
    "\n",
    "   - Usage - direct access without module prefix\n",
    "\n",
    "   - result = sqrt(16) current_dir = getcwd()"
   ]
  },
  {
   "cell_type": "markdown",
   "metadata": {
    "id": "hJL35zINowZO"
   },
   "source": [
    "* Method 1: **import**\n",
    " - import datetime today = datetime.date.today()\n",
    "\n",
    "* Method 2: **from ... import**\n",
    " - from datetime import date today = date.today()\n",
    "\n",
    "* Method 3: **from ... import with alias**\n",
    " - from datetime import date as dt today = dt.today()\n",
    "\n",
    "* Method 4: **import with alias**\n",
    " - import datetime as dt today = dt.date.today()\n",
    "\n",
    "* **Best Practices**:\n",
    "\n",
    " * Use import for better code readability and avoiding name conflicts\n",
    " * Use from ... import for frequently used functions to reduce typing\n",
    " * Avoid from module import * as it pollutes the namespace\n",
    " * Use aliases when module names are long or to avoid conflicts"
   ]
  },
  {
   "cell_type": "code",
   "execution_count": 43,
   "metadata": {
    "colab": {
     "base_uri": "https://localhost:8080/"
    },
    "id": "TaEDnJgPJ3N3",
    "outputId": "3bb9ed23-dc2d-4896-b09d-2d99804d603e"
   },
   "outputs": [
    {
     "name": "stdout",
     "output_type": "stream",
     "text": [
      "4.0\n",
      "4.0\n"
     ]
    }
   ],
   "source": [
    "import math\n",
    "print(math.sqrt(16))\n",
    "\n",
    "from math import sqrt\n",
    "print(sqrt(16))\n"
   ]
  },
  {
   "cell_type": "markdown",
   "metadata": {
    "id": "K1aKkdPCimUF"
   },
   "source": [
    "**Q.7 How can you handle multiple exceptions in Python**\n",
    "\n",
    "Ans:Use multiple except blocks or a single block with a tuple.\n",
    "Python provides several ways to handle multiple exceptions effectively:\n",
    "\n",
    "Best Practices:\n",
    "\n",
    "\n",
    "| Practice                             | Reason                                                     |\n",
    "| ------------------------------------ | ---------------------------------------------------------- |\n",
    "| Handle **specific exceptions first** | Avoids catching general errors too early                   |\n",
    "| Use **descriptive error messages**   | Helps in understanding what went wrong                     |\n",
    "| Use `else` for success logic         | Keeps exception and normal logic separate                  |\n",
    "| Use `finally` for cleanup            | Ensures important actions always run (e.g., closing files) |\n",
    "| Log exceptions (in real apps)        | Helps in debugging and monitoring                          |\n",
    "| Don’t catch errors you can't handle  | Catching blindly can hide problems instead of solving them |\n"
   ]
  },
  {
   "cell_type": "markdown",
   "metadata": {
    "id": "8w_4n-wZqhJK"
   },
   "source": [
    "1. Multiple except Blocks (One per Exception Type)\n",
    "Best for handling different exceptions with specific messages."
   ]
  },
  {
   "cell_type": "code",
   "execution_count": 48,
   "metadata": {
    "colab": {
     "base_uri": "https://localhost:8080/"
    },
    "id": "INIQ1c-oqee7",
    "outputId": "89e12cb6-c59a-4888-e7b3-b90034dc227d"
   },
   "outputs": [
    {
     "name": "stdout",
     "output_type": "stream",
     "text": [
      "Enter a number: 0\n",
      "❌ Cannot divide by zero!\n"
     ]
    }
   ],
   "source": [
    "try:\n",
    "    num = int(input(\"Enter a number: \"))\n",
    "    result = 10 / num\n",
    "    my_list = [1, 2, 3]\n",
    "    print(my_list[num])\n",
    "except ValueError:\n",
    "    print(\"❌ Invalid input! Please enter a number.\")\n",
    "except ZeroDivisionError:\n",
    "    print(\"❌ Cannot divide by zero!\")\n",
    "except IndexError:\n",
    "    print(\"❌ Index out of range!\")"
   ]
  },
  {
   "cell_type": "markdown",
   "metadata": {
    "id": "NKWmgNs0qj3b"
   },
   "source": [
    "2. Single except Block for Multiple Exceptions\n",
    "Use a tuple to catch multiple exceptions together."
   ]
  },
  {
   "cell_type": "code",
   "execution_count": 49,
   "metadata": {
    "colab": {
     "base_uri": "https://localhost:8080/"
    },
    "id": "O5FYNwAVqmow",
    "outputId": "ecc26f5a-1e0f-425d-cdb1-3313ed25e7fc"
   },
   "outputs": [
    {
     "name": "stdout",
     "output_type": "stream",
     "text": [
      "Enter a number: 0\n",
      "❌ Error occurred: division by zero\n"
     ]
    }
   ],
   "source": [
    "try:\n",
    "    num = int(input(\"Enter a number: \"))\n",
    "    result = 10 / num\n",
    "    my_list = [1, 2, 3]\n",
    "    print(my_list[num])\n",
    "except (ValueError, ZeroDivisionError, IndexError) as e:\n",
    "    print(f\"❌ Error occurred: {e}\")\n"
   ]
  },
  {
   "cell_type": "markdown",
   "metadata": {
    "id": "XoswE-7bqpPo"
   },
   "source": [
    "3. General Exception Handler (Catch-All)\n",
    "Useful for logging unknown or unexpected errors."
   ]
  },
  {
   "cell_type": "code",
   "execution_count": 50,
   "metadata": {
    "colab": {
     "base_uri": "https://localhost:8080/"
    },
    "id": "PxpDx0bDqrhM",
    "outputId": "5713c586-e10b-4695-838d-7a731024107e"
   },
   "outputs": [
    {
     "name": "stdout",
     "output_type": "stream",
     "text": [
      "Enter a number: 0\n",
      "⚠️ Unexpected error: ZeroDivisionError - division by zero\n"
     ]
    }
   ],
   "source": [
    "try:\n",
    "    num = int(input(\"Enter a number: \"))\n",
    "    result = 10 / num\n",
    "except Exception as e:\n",
    "    print(f\"⚠️ Unexpected error: {type(e).__name__} - {e}\")\n"
   ]
  },
  {
   "cell_type": "markdown",
   "metadata": {
    "id": "vbWJvK4EquxG"
   },
   "source": [
    "4. Nested try-except Blocks\n",
    "Used when you want to handle different parts of code separately."
   ]
  },
  {
   "cell_type": "code",
   "execution_count": null,
   "metadata": {
    "colab": {
     "base_uri": "https://localhost:8080/"
    },
    "id": "cGYPFdyXqvVi",
    "outputId": "c72ebaad-d91b-4cf5-eeee-82cc7aeecd03"
   },
   "outputs": [
    {
     "name": "stdout",
     "output_type": "stream",
     "text": [
      "Enter a number: 45\n",
      "Result: 0.2222222222222222\n"
     ]
    }
   ],
   "source": [
    "try:\n",
    "    try:\n",
    "        num = int(input(\"Enter a number: \"))\n",
    "    except ValueError:\n",
    "        print(\"❌ Invalid number format!\")\n",
    "        raise  # Re-raises the exception\n",
    "\n",
    "    result = 10 / num\n",
    "    print(\"Result:\", result)\n",
    "\n",
    "except ZeroDivisionError:\n",
    "    print(\"❌ Cannot divide by zero!\")\n",
    "except Exception as e:\n",
    "    print(f\"❌ Outer handler: {e}\")\n"
   ]
  },
  {
   "cell_type": "markdown",
   "metadata": {
    "id": "zQVm_Y0OqxVx"
   },
   "source": [
    "5. Complete Exception Handling Structure (with else and finally)"
   ]
  },
  {
   "cell_type": "code",
   "execution_count": 51,
   "metadata": {
    "colab": {
     "base_uri": "https://localhost:8080/"
    },
    "id": "51yvwOq3qzNl",
    "outputId": "c53fc471-0067-4126-8917-69c07fb3082c"
   },
   "outputs": [
    {
     "name": "stdout",
     "output_type": "stream",
     "text": [
      "Enter file name: data.txt\n",
      "❌ File not found!\n",
      "🔁 Cleanup complete.\n"
     ]
    }
   ],
   "source": [
    "try:\n",
    "    file_name = input(\"Enter file name: \")\n",
    "    with open(file_name, 'r') as file:\n",
    "        content = file.read()\n",
    "        number = int(content.strip())\n",
    "        result = 100 / number\n",
    "        print(\"Result:\", result)\n",
    "except FileNotFoundError:\n",
    "    print(\"❌ File not found!\")\n",
    "except PermissionError:\n",
    "    print(\"❌ No permission to access the file!\")\n",
    "except ValueError:\n",
    "    print(\"❌ File content is not a valid number!\")\n",
    "except ZeroDivisionError:\n",
    "    print(\"❌ Cannot divide by zero!\")\n",
    "except Exception as e:\n",
    "    print(f\"⚠️ Unknown error: {type(e).__name__} - {e}\")\n",
    "else:\n",
    "    print(\"✅ Operation completed successfully.\")\n",
    "finally:\n",
    "    print(\"🔁 Cleanup complete.\")\n"
   ]
  },
  {
   "cell_type": "markdown",
   "metadata": {
    "id": "oVkSRRT7hwJE"
   },
   "source": [
    "**Q.8  What is the purpose of the with statement when handling files in Python**\n",
    "\n",
    "Ans:\n",
    "\n",
    "The with statement is used for context management and provides a clean, safe way to handle files. Its main purposes are:\n",
    "\n",
    "1. Automatic Resource Management: It automatically opens and closes files, ensuring proper cleanup even if an error occurs.\n",
    "\n",
    "2. Exception Safety: If an exception is raised while the file is open, the with statement guarantees the file will still be closed properly.\n",
    "\n",
    "3. Cleaner Code: It eliminates the need to manually call file.close() and reduces boilerplate code.\n",
    "\n",
    "4. Memory Efficiency: It prevents memory leaks by ensuring files are properly closed and resources are freed.\n",
    "\n",
    "\n",
    " **Why with is a Best Practice:**\n",
    "- Prevents file handle leaks\n",
    "\n",
    "- Makes code more Pythonic and readable\n",
    "\n",
    "- Reduces chance of errors (like forgetting to close a file)\n",
    "\n",
    "- Ensures better performance and stability\n",
    "\n",
    "# Example 1: Using with Statement (Recommended) >> File is closed automatically, even if an exception occurs.\n",
    "# File will be automatically closed after this block\n",
    "\n",
    "```\n",
    "with open('example.txt', 'r') as file:\n",
    "    content = file.read()\n",
    "    print(content)\n",
    "```\n",
    "\n",
    "----------------------------------------------------------------------\n",
    "\n",
    "\n",
    "#Example 2: Without with Statement (Not Recommended)\n",
    "\n",
    "```\n",
    "file = open('example.txt', 'r')\n",
    "try:\n",
    "    content = file.read()\n",
    "    print(content)\n",
    "finally:\n",
    "    file.close()  # Must be called manually\n",
    "\n",
    "```\n"
   ]
  },
  {
   "cell_type": "markdown",
   "metadata": {
    "id": "s9FcESAAjY-E"
   },
   "source": [
    "**Q.9  What is the difference between multithreading and multiprocessing**\n",
    "\n",
    "Ans:\n",
    "Both multithreading and multiprocessing are used to run multiple tasks at the same time, but they differ in how they work behind the scenes.\n",
    "\n",
    "**Multithreading**: Multiple threads share the same memory.\n",
    "\n",
    "**Multiprocessing**: Each process runs in separate memory space.\n",
    "\n",
    "Use multithreading for I/O-bound tasks, multiprocessing for CPU-bound tasks.\n",
    "\n",
    "| Feature                           | **Multithreading**                                            | **Multiprocessing**                                  |\n",
    "| --------------------------------- | ------------------------------------------------------------- | ---------------------------------------------------- |\n",
    "| **Definition**                    | Multiple threads within a single process                      | Multiple independent processes                       |\n",
    "| **Memory**                        | Shared memory between threads                                 | Separate memory space per process                    |\n",
    "| **GIL (Global Interpreter Lock)** | Affected (only one thread executes Python bytecode at a time) | Not affected — true parallelism                      |\n",
    "| **Best for**                      | I/O-bound tasks (file I/O, network requests)                  | CPU-bound tasks (math, data processing)              |\n",
    "| **Performance**                   | Lower memory use, faster thread switching                     | Higher CPU utilization, but more memory overhead     |\n",
    "| **Communication**                 | Easy (shared memory)                                          | Complex (requires Inter-Process Communication - IPC) |\n",
    "| **Crash Isolation**               | Shared — crash in one thread may affect others                | Isolated — crash in one process won’t affect others  |\n",
    "\n",
    "\n",
    "| Use Case                           | Recommended Approach |\n",
    "| ---------------------------------- | -------------------- |\n",
    "| File I/O, Web Scraping, APIs       | ✅ Multithreading     |\n",
    "| Heavy Computation, Data Processing | ✅ Multiprocessing    |\n"
   ]
  },
  {
   "cell_type": "markdown",
   "metadata": {
    "id": "3Na_Oul3sxxJ"
   },
   "source": [
    "Multithreading Example (I/O-Bound Task):"
   ]
  },
  {
   "cell_type": "code",
   "execution_count": 54,
   "metadata": {
    "colab": {
     "base_uri": "https://localhost:8080/"
    },
    "id": "pBY7QIwssyUL",
    "outputId": "deb0ed01-3958-4d52-f5c4-434ec1985f77"
   },
   "outputs": [
    {
     "name": "stdout",
     "output_type": "stream",
     "text": [
      " Worker 0 starting\n",
      " Worker 1 starting\n",
      " Worker 2 starting\n",
      " Worker 0 finished\n",
      " Worker 1 finished\n",
      " Worker 2 finished\n"
     ]
    }
   ],
   "source": [
    "import threading\n",
    "import time\n",
    "\n",
    "def worker(name):\n",
    "    print(f\" Worker {name} starting\")\n",
    "    time.sleep(2)\n",
    "    print(f\" Worker {name} finished\")\n",
    "\n",
    "# Create and start threads\n",
    "threads = []\n",
    "for i in range(3):\n",
    "    t = threading.Thread(target=worker, args=(i,))\n",
    "    threads.append(t)\n",
    "    t.start()\n",
    "\n",
    "# Wait for all threads to finish\n",
    "for t in threads:\n",
    "    t.join()\n"
   ]
  },
  {
   "cell_type": "markdown",
   "metadata": {
    "id": "CA5CatfBszn6"
   },
   "source": [
    "Multiprocessing Example (CPU-Bound Task):"
   ]
  },
  {
   "cell_type": "code",
   "execution_count": 55,
   "metadata": {
    "colab": {
     "base_uri": "https://localhost:8080/"
    },
    "id": "5BFNEXH9s14s",
    "outputId": "415cff64-a6a2-4855-b7c1-a68d671cfdf5"
   },
   "outputs": [
    {
     "name": "stdout",
     "output_type": "stream",
     "text": [
      " Process 0 starting\n",
      " Process 1 starting\n",
      " Process 2 starting\n",
      " Process 0 finished\n",
      " Process 1 finished\n",
      " Process 2 finished\n"
     ]
    }
   ],
   "source": [
    "import multiprocessing\n",
    "import time\n",
    "\n",
    "def worker(name):\n",
    "    print(f\" Process {name} starting\")\n",
    "    time.sleep(2)\n",
    "    print(f\" Process {name} finished\")\n",
    "\n",
    "if __name__ == '__main__':\n",
    "    # Create and start processes\n",
    "    processes = []\n",
    "    for i in range(3):\n",
    "        p = multiprocessing.Process(target=worker, args=(i,))\n",
    "        processes.append(p)\n",
    "        p.start()\n",
    "\n",
    "    # Wait for all processes to finish\n",
    "    for p in processes:\n",
    "        p.join()\n"
   ]
  },
  {
   "cell_type": "markdown",
   "metadata": {
    "id": "s_iWsR5kja9x"
   },
   "source": [
    "**Q.10  What are the advantages of using logging in a program?**\n",
    "\n",
    "Ans:\n",
    "\n",
    "* Helps in debugging and monitoring.\n",
    "\n",
    "* Saves logs to files for future reference.\n",
    "\n",
    "* Allows different log levels (INFO, WARNING, ERROR).\n",
    "\n",
    "* Production-ready unlike print statements.\n",
    "\n",
    "* Using logging in a program offers several advantages:\n",
    "\n",
    " - Improved Debugging: Logs provide detailed information about the program's behavior, making it easier to identify and fix issues, especially in production environments where traditional debugging tools might not be available.\n",
    "\n",
    " - Error Tracking: Logging allows you to record errors, exceptions, and failures, helping you track issues over time and ensuring they're properly addressed.\n",
    "\n",
    " - Customizable Output: You can configure logging to display messages at different levels (e.g., DEBUG, INFO, WARNING, ERROR, CRITICAL) and direct output to various destinations, such as the console, files, or external systems.\n",
    "\n",
    " - Performance Monitoring: Logs help in tracking the performance of the application, including timings for specific operations, which can help in identifying bottlenecks.\n",
    "\n",
    " - Non-intrusive: Unlike print statements, logging does not interfere with the program’s output and can be turned on or off as needed, providing flexibility.\n",
    "\n",
    " - Audit Trails: Logs create a record of the system's activities, which can be useful for auditing purposes, especially in applications dealing with sensitive data or critical systems.\n",
    "\n",
    " - Better Maintenance: By using logging, a program can be easily monitored in real-time, and the logs provide historical insight for future maintenance and improvements."
   ]
  },
  {
   "cell_type": "markdown",
   "metadata": {
    "id": "LxeEeVTpjcqO"
   },
   "source": [
    "**Q.11 What is memory management in Python?**\n",
    "\n",
    "Ans:\n",
    "Python uses a built-in garbage collector.\n",
    "\n",
    "Manages memory automatically using reference counting.\n",
    "\n",
    "Helps prevent memory leaks.\n",
    "\n",
    "Python's memory management system controls how Python programs use and release memory. It includes techniques like garbage collection and memory pools to allocate and deallocate memory."
   ]
  },
  {
   "cell_type": "markdown",
   "metadata": {
    "id": "wR1Y9us4jfXT"
   },
   "source": [
    "**Q.12 What are the basic steps involved in exception handling in Python?**\n",
    "\n",
    "Ans:\n",
    "\n",
    "* Summary\n",
    " - **Try block**: Wrap risky code in a try block.\n",
    "\n",
    " - **Except block**: *Catches* and **Handle specific exceptions** using except.\n",
    "\n",
    " -  **Else block(Optionally)**: Executes code if **no exceptions are raised**.\n",
    "\n",
    " - **Finally block**: Use finally for **cleanup**. & Finally block **always executes**, regardless of exceptions.\n",
    "\n",
    "\n",
    "```\n",
    "try:\n",
    "    # Code that might raise an exception\n",
    "except ExceptionType1:\n",
    "    # Code to handle ExceptionType1\n",
    "except ExceptionType2:\n",
    "    # Code to handle ExceptionType2\n",
    "else:\n",
    "    # Code that runs if no exceptions occur\n",
    "finally:\n",
    "    # Cleanup code that always runs\n",
    "\n",
    "```\n",
    "\n"
   ]
  },
  {
   "cell_type": "code",
   "execution_count": 56,
   "metadata": {
    "colab": {
     "base_uri": "https://localhost:8080/"
    },
    "id": "XHCpTeSac0Zg",
    "outputId": "a5b78ff3-ce26-4e73-9e67-b20f50866d5f"
   },
   "outputs": [
    {
     "name": "stdout",
     "output_type": "stream",
     "text": [
      "Enter a number: 0\n",
      "Cannot divide by zero.\n",
      "Execution completed.\n"
     ]
    }
   ],
   "source": [
    "try:\n",
    "    num = int(input(\"Enter a number: \"))\n",
    "    result = 10 / num\n",
    "except ValueError:\n",
    "    print(\"Invalid input! Please enter a number.\")\n",
    "except ZeroDivisionError:\n",
    "    print(\"Cannot divide by zero.\")\n",
    "else:\n",
    "    print(f\"Result is {result}\")\n",
    "finally:\n",
    "    print(\"Execution completed.\")\n"
   ]
  },
  {
   "cell_type": "markdown",
   "metadata": {
    "id": "oW2QNWFJjguM"
   },
   "source": [
    "**Q.13 Why is memory management important in Python?**\n",
    "\n",
    "Ans:\n",
    "- To prevent crashes due to memory leaks.\n",
    "\n",
    "- Ensures efficient use of resources.\n",
    "\n",
    "- Helps maintain performance over long runs.& program run faster and avoids slowdowns due to excessive memory usage.\n",
    "\n",
    "- Keeps programs efficient and stable\n",
    "\n",
    "- Reference Counting\n",
    "\n",
    "- Dynamic Memory Allocation\n",
    "\n",
    "- Garbage Collection: Python automatically manages memory with its garbage collection system, ensuring objects are cleaned up when no longer needed, which helps in maintaining optimal performance.\n",
    "\n",
    "Note: Memory management is crucial in Python because it directly affects a program’s performance, stability, and scalability.\n"
   ]
  },
  {
   "cell_type": "markdown",
   "metadata": {
    "id": "py8HZVX0i6bM"
   },
   "source": [
    "**Q.14  What is the role of try and except in exception handling?**\n",
    "\n",
    "Ans:\n",
    "\n",
    "**Purpose**:\n",
    "To detect and handle runtime errors gracefully without crashing the program.\n",
    "\n",
    "🔹 **try** Block:\n",
    "  - Block where we write code that might raise an exception.Python attempts to run this code.\n",
    "  - If no error → the except block is skipped & executes normally.\n",
    "  - If error occurs → control shifts to except.\n",
    "  - If an exception is raised within the try block, Python immediately stops executing the remaining code inside the try block and jumps to the except block to handle the error.\n",
    "\n",
    "🔹 **except** Block:\n",
    "  - Executes only if an exception is raised in the try block.\n",
    "  - Handles the error if an exception is raised in the try block.\n",
    "  - The except block allows you to specify what should happen if a particular exception occurs.\n",
    "  -  You can specify the type of exception you want to catch (e.g., except ZeroDivisionError:).\n",
    "\n",
    "🔹 **Can handle :**\n",
    "\n",
    "    - Catch Specific exceptions/ errors (e.g., ValueError, ZeroDivisionError).  \n",
    "    - Define multiple except blocks as well as Multiple exception types\n",
    "    - You can handle types of exceptions with different except blocks\n",
    "    or\n",
    "    - use a generic one for all exceptions (except Exception:) for unknown errors\n",
    "\n",
    "    🔹 **Why Use try-except**:\n",
    "    - Makes code more robust and error-tolerant.\n",
    "    - Helps in error recovery or logging.\n",
    "    - Ensures smoother user experience.\n",
    "    - try & except blocks Prevents abrupt program termination."
   ]
  },
  {
   "cell_type": "code",
   "execution_count": 57,
   "metadata": {
    "colab": {
     "base_uri": "https://localhost:8080/"
    },
    "id": "IJofq8jNkIPa",
    "outputId": "38ce3b1e-dd5c-41dc-ac22-3aaef36af44b"
   },
   "outputs": [
    {
     "name": "stdout",
     "output_type": "stream",
     "text": [
      "Cannot divide by zero.\n"
     ]
    }
   ],
   "source": [
    "try:\n",
    "    x = 10 / 0  # Raises ZeroDivisionError\n",
    "except ZeroDivisionError:\n",
    "    print(\"Cannot divide by zero.\")\n"
   ]
  },
  {
   "cell_type": "markdown",
   "metadata": {
    "id": "Mh04dcJwd34c"
   },
   "source": [
    "**Q.15  How does Python's garbage collection system work?**\n",
    "\n",
    "Ans:\n",
    "\n",
    " **Purpose**:\n",
    "To automatically manage memory by reclaiming unused objects and preventing memory leaks.\n",
    "\n",
    "🔹 **Key Mechanisms:**\n",
    "\n",
    "1. **Reference Counting:**\n",
    "   * Every object has a reference count (number of references pointing to it).\n",
    "   * When the count becomes zero, the object is immediately deleted.\n",
    "\n",
    "2. **Garbage Collector (GC):**\n",
    "   * Handles objects involved in **circular references** (e.g., two objects referencing each other).\n",
    "   * Periodically scans and frees memory that can't be reached.\n",
    "\n",
    "3. **Generational GC:**\n",
    "   * Python divides objects into **3 generations** (0, 1, 2) based on age.\n",
    "   * Young objects are collected more frequently; older ones less often (for efficiency).\n",
    "\n",
    "4. **Memory Pools (pymalloc):**\n",
    "   * Manages small memory blocks internally to reduce fragmentation and improve performance.\n",
    "\n",
    "🔹 **Manual Garbage Collection:**\n",
    "\n",
    "```python\n",
    "import gc\n",
    "gc.collect()  # Manually trigger garbage collection\n",
    "```\n",
    "\n",
    "🔹 **Why It Matters:**\n",
    "\n",
    "* Optimizes memory usage.\n",
    "* Frees up space from unused objects.\n",
    "* Reduces risk of memory leaks in long-running programs."
   ]
  },
  {
   "cell_type": "markdown",
   "metadata": {
    "id": "MEew2K69d5mw"
   },
   "source": [
    "**Q.16 What is the purpose of the else block in exception handling?**\n",
    "\n",
    "Ans:\n",
    "\n",
    "The else block executes if no exceptions are raised in the try block.\n",
    "\n",
    "Keeps success-path logic separate from error-handling.\n",
    "\n",
    "* **Key Points**:\n",
    "\n",
    "  - Runs only if no error occurs in try\n",
    "  - Skipped on exception\n",
    "  - Separates normal logic from error handling\n",
    "  - Avoids catching unintended exceptions"
   ]
  },
  {
   "cell_type": "code",
   "execution_count": 58,
   "metadata": {
    "colab": {
     "base_uri": "https://localhost:8080/"
    },
    "id": "xqABmNcgtYPv",
    "outputId": "15f15eb3-f455-41a7-83d1-eafc9f55bbd6"
   },
   "outputs": [
    {
     "name": "stdout",
     "output_type": "stream",
     "text": [
      "Enter a number: 0\n",
      "Valid number entered!\n",
      "No exceptions occurred.\n"
     ]
    }
   ],
   "source": [
    "try:\n",
    "    num = int(input(\"Enter a number: \"))\n",
    "    print(\"Valid number entered!\")\n",
    "except ValueError:\n",
    "    print(\"Invalid input!\")\n",
    "else:\n",
    "    print(\"No exceptions occurred.\")\n"
   ]
  },
  {
   "cell_type": "markdown",
   "metadata": {
    "id": "zss6GAadd63R"
   },
   "source": [
    "**Q.17 What are the common logging levels in Python?**\n",
    "\n",
    "Ans:\n",
    "Python’s built-in logging module provides several standard logging levels to categorize the importance and severity of events during program execution.\n",
    "Common Logging Levels (from lowest to highest severity):\n",
    "1. DEBUG :\n",
    " - Purpose: Detailed information, useful for diagnosing problems during development.\n",
    "\n",
    " - Example: Variable values, function calls.\n",
    "\n",
    " - Use case: While debugging.\n",
    "\n",
    "\n",
    "2. INFO :\n",
    " - Purpose: Confirms that things are working as expected & used to track the progress.\n",
    "\n",
    " - Example: “User logged in”, “File uploaded successfully”.\n",
    "\n",
    " - Use case: General runtime information.\n",
    "\n",
    "\n",
    "3. WARNING :\n",
    " - Purpose: Indicates something unexpected or a potential future issues — the program still works.\n",
    "\n",
    " - Example: Deprecated functions, missing config files.\n",
    "\n",
    " - Use case: Alert developers of possible issues.\n",
    "\n",
    "4. ERROR :\n",
    " - Purpose: Serious problems affecting program continuation, but the program is still running.\n",
    "\n",
    " - Example: File not found, failed database connection.\n",
    "\n",
    " - Use case: When an operation fails.\n",
    "\n",
    "\n",
    "5. CRITICAL :\n",
    " - Purpose: Very serious error — possibly leading to program termination.\n",
    "\n",
    " - Example: Application crash, data loss.\n",
    "\n",
    " - Use case: When immediate attention is needed.\n"
   ]
  },
  {
   "cell_type": "markdown",
   "metadata": {
    "id": "jQkk0pntznSL"
   },
   "source": [
    "| Level    | Use For                            | Severity |\n",
    "| -------- | ---------------------------------- | -------- |\n",
    "| DEBUG    | Diagnostic info during dev         | Lowest   |\n",
    "| INFO     | Confirm program behavior           | Low      |\n",
    "| WARNING  | Unexpected events, not fatal       | Medium   |\n",
    "| ERROR    | Serious issues, handled gracefully | High     |\n",
    "| CRITICAL | Critical errors, may crash app     | Highest  |\n"
   ]
  },
  {
   "cell_type": "code",
   "execution_count": null,
   "metadata": {
    "id": "H0-BHciozj5Z"
   },
   "outputs": [],
   "source": [
    "import logging\n",
    "\n",
    "logging.basicConfig(level=logging.DEBUG)\n",
    "\n",
    "logging.debug(\"This is a debug message\")\n",
    "logging.info(\"This is an info message\")\n",
    "logging.warning(\"This is a warning message\")\n",
    "logging.error(\"This is an error message\")\n",
    "logging.critical(\"This is a critical message\")\n"
   ]
  },
  {
   "cell_type": "markdown",
   "metadata": {
    "id": "r0QbLSThd-FM"
   },
   "source": [
    "**Q.18 What is the difference between os.fork() and multiprocessing in Python?**\n",
    "\n",
    "Ans:\n",
    "he main differences between os.fork() and the multiprocessing module in Python are:\n",
    "\n",
    "* os.fork():\n",
    "  - Creates a child process by duplicating the parent process.\n",
    "  - Available only on Unix-based systems (Linux, macOS).\n",
    "  - The child process gets a copy of the parent’s memory space.\n",
    "  - It’s lower-level and requires manual management of processes and resources.\n",
    "\n",
    "\n",
    "* multiprocessing:\n",
    "  - Provides a higher-level API for creating and managing processes.\n",
    "\n",
    "  - Works across different platforms (Linux, macOS, Windows).\n",
    "\n",
    "  - Handles process creation, synchronization, and communication more easily (e.g., through queues, pipes).\n",
    "  \n",
    "  - Uses separate memory space for each process, preventing memory sharing issues.\n"
   ]
  },
  {
   "cell_type": "code",
   "execution_count": null,
   "metadata": {
    "colab": {
     "base_uri": "https://localhost:8080/"
    },
    "id": "XSAiSSLzz0Nm",
    "outputId": "d92670de-15ca-4735-af3a-5224a455e86a"
   },
   "outputs": [
    {
     "name": "stdout",
     "output_type": "stream",
     "text": [
      "Parent process\n",
      "Child process\n"
     ]
    }
   ],
   "source": [
    "# Using os.fork():\n",
    "import os\n",
    "\n",
    "pid = os.fork()\n",
    "\n",
    "if pid == 0:\n",
    "    print(\"Child process\")\n",
    "else:\n",
    "    print(\"Parent process\")\n"
   ]
  },
  {
   "cell_type": "code",
   "execution_count": null,
   "metadata": {
    "id": "baUuAFz6z5bD"
   },
   "outputs": [],
   "source": [
    "# Using multiprocessing:\n",
    "from multiprocessing import Process\n",
    "\n",
    "def task():\n",
    "    print(\"Child process\")\n",
    "\n",
    "p = Process(target=task)\n",
    "p.start()\n",
    "p.join()\n",
    "print(\"Parent process\")\n"
   ]
  },
  {
   "cell_type": "markdown",
   "metadata": {
    "id": "_RM2NLYNd_bd"
   },
   "source": [
    "**Q.19  What is the importance of closing a file in Python**\n",
    "\n",
    "Ans:Frees system resources – Releases memory and file handles.\n",
    "\n",
    "Saves all data – Flushes any buffered data to the file.\n",
    "\n",
    "Prevents file corruption – Finalizes file operations safely.\n",
    "\n",
    "Unlocks file access – Other programs can access the file.\n",
    "\n",
    "Avoids errors – Prevents “Too many open files” issue.\n",
    "\n",
    "Best Practice:\n",
    "\n",
    "Use with open() to auto-close files:\n",
    "\n",
    "\n",
    "```\n",
    "with open('file.txt', 'r') as f:\n",
    "    data = f.read()\n",
    "```\n",
    "\n",
    "\n"
   ]
  },
  {
   "cell_type": "markdown",
   "metadata": {
    "id": "pAZNyeZ0eAtD"
   },
   "source": [
    "**Q.20 What is the difference between file.read() and file.readline() in Python?**\n",
    "\n",
    "Ans:\n",
    "read() → Reads entire file as a string.\n",
    "\n",
    "readline() → Reads only one line at a time.\n",
    "\n",
    "- ** file.read( ): **\n",
    "  - Reads the entire file (or specified number of bytes).\n",
    "\n",
    "  - Returns one long string.\n",
    "\n",
    "  - Loads all content into memory.\n",
    "\n",
    "  - Best for small files.Reads the entire file or a specific number of bytes.\n",
    "  -\n",
    "  ```\n",
    "  with open('file.txt', 'r') as f:\n",
    "    data = f.read()\n",
    "    print(data)\n",
    "```\n",
    "\n",
    "- **file.readline( ):**\n",
    "  - Reads one line at a time (up to \\n).\n",
    "\n",
    "  - Returns a single line as string.\n",
    "\n",
    "  - Useful for large files to save memory.\n",
    "\n",
    "  - Use in loops to process line-by-line.\n",
    "  -\n",
    "```\n",
    "with open('file.txt', 'r') as f:\n",
    "    line1 = f.readline()\n",
    "    print(line1)\n",
    "```\n",
    "\n",
    "\n",
    "\n"
   ]
  },
  {
   "cell_type": "markdown",
   "metadata": {
    "id": "MbLwGaPPeCIz"
   },
   "source": [
    "**Q.21 What is the logging module in Python used for?**\n",
    "\n",
    "Ans:\n",
    "The logging module is used for creating logs to debug and monitor programs.\n",
    "- Tracks program events (info, warnings, errors).\n",
    "\n",
    "- Helps in debugging and issue diagnosis.\n",
    "\n",
    "- Records errors/exceptions without crashing the program.\n",
    "\n",
    "- Supports log levels – DEBUG, INFO, WARNING, ERROR, CRITICAL.\n",
    "\n",
    "- Saves logs to console, files, or external systems.\n",
    "\n",
    "- Improves monitoring and maintenance of applications."
   ]
  },
  {
   "cell_type": "markdown",
   "metadata": {
    "id": "aj9z5VN4eDfV"
   },
   "source": [
    "**Q.22 What is the os module in Python used for in file handling?**\n",
    "\n",
    "Ans:\n",
    " - Interacts with the operating system for file and directory operations.\n",
    "\n",
    "- Creates, renames, or deletes files and folders.\n",
    "\n",
    "- Navigates directories using os.chdir(), os.getcwd().\n",
    "\n",
    "- Checks file/folder existence with os.path.exists().\n",
    "\n",
    "- Lists directory contents using os.listdir().\n",
    "\n",
    "- Handles paths using os.path.join(), os.path.abspath()"
   ]
  },
  {
   "cell_type": "markdown",
   "metadata": {
    "id": "DPFQNMZf5cv8"
   },
   "source": [
    "**File and Directory Manipulation:**\n",
    "  - os.rename() – Rename a file or directory.\n",
    "\n",
    "  - os.remove() – Delete a file.\n",
    "\n",
    "  - os.mkdir() / os.makedirs() – Create single or nested directories.\n",
    "\n",
    "  - os.rmdir() / os.removedirs() – Remove single or nested directories.\n",
    "\n",
    "**Path Operations:**\n",
    "  - os.path.exists() – Check if a file or directory exists.\n",
    "\n",
    "  - os.path.join() – Join paths in a platform-independent way.\n",
    "\n",
    "  - os.path.basename() – Get the file or directory name from a path.\n",
    "\n",
    "  - os.path.dirname() – Get the directory path from a full file path.\n",
    "\n",
    "  - os.path.abspath() – Get the absolute path of a file or directory.\n",
    "\n",
    "**Working with Current Directory:**\n",
    "  - os.getcwd() – Get the current working directory.\n",
    "\n",
    "  - os.chdir() – Change the current working directory.\n",
    "\n",
    "**Listing Files and Directories:**\n",
    "  - os.listdir() – List all files and directories in a specified directory."
   ]
  },
  {
   "cell_type": "code",
   "execution_count": null,
   "metadata": {
    "id": "0UhNCFA2KrCo"
   },
   "outputs": [],
   "source": [
    "#Example of using the os module for file handling:\n",
    "\n",
    "import os\n",
    "\n",
    "# Create a new directory\n",
    "os.mkdir('new_folder')\n",
    "\n",
    "# Check if a file exists\n",
    "if os.path.exists('file.txt'):\n",
    "    print(\"File exists\")\n",
    "\n",
    "# Get the current working directory\n",
    "current_dir = os.getcwd()\n",
    "print(\"Current Directory:\", current_dir)"
   ]
  },
  {
   "cell_type": "markdown",
   "metadata": {
    "id": "jDeyUFoneFHQ"
   },
   "source": [
    "**Q.23   What are the challenges associated with memory management in Python?**\n",
    "\n",
    "Ans:\n",
    "- Cyclic references between objects can cause memory leaks.\n",
    "\n",
    "- Holding large objects longer than needed wastes memory.\n",
    "\n",
    "- Improper use of global variables leads to inefficient memory use.\n",
    "\n",
    "- Python’s automatic garbage collection adds some performance overhead.\n",
    "\n",
    "- Memory fragmentation reduces allocation efficiency.\n",
    "\n",
    "- Limited manual control for fine-tuning memory management.\n",
    "\n",
    "- Unpredictable garbage collection timing can impact performance.\n",
    "\n",
    "- Memory leaks can occur from poorly managed C extensions."
   ]
  },
  {
   "cell_type": "markdown",
   "metadata": {
    "id": "7M4pCHdaeGqi"
   },
   "source": [
    "**Q.24   How do you raise an exception manually in Python?**\n",
    "\n",
    "Ans:\n",
    "Use the raise keyword."
   ]
  },
  {
   "cell_type": "code",
   "execution_count": null,
   "metadata": {
    "id": "FoeQHfTsKy0m"
   },
   "outputs": [],
   "source": [
    "raise ValueError(\"Invalid input\")"
   ]
  },
  {
   "cell_type": "markdown",
   "metadata": {
    "id": "BzfHosoDeIA9"
   },
   "source": [
    "**Q.25 Why is it important to use multithreading in certain applications?**\n",
    "\n",
    "Ans:\n",
    "mproves performance by allowing parallel execution of multiple threads.\n",
    "\n",
    "Ideal for I/O-bound tasks like file reading, network requests, or database operations.\n",
    "\n",
    "Prevents blocking of the main thread, keeping applications responsive.\n",
    "\n",
    "Enhances user experience in GUI applications by running background tasks without freezing the UI.\n",
    "\n",
    "Efficient resource utilization — makes better use of CPU idle time during I/O operations.\n",
    "\n",
    "Used in web servers to handle multiple client requests concurrently.\n",
    "\n",
    "Supports real-time applications like chat systems or sensor monitoring where tasks must run simultaneously.\n",
    "\n",
    "Example Use Case:\n",
    "A server application using multithreading can serve hundreds of users at the same time without delay."
   ]
  },
  {
   "cell_type": "markdown",
   "metadata": {
    "id": "imJ1tufnVgDC"
   },
   "source": [
    "# Section 2 : Python Practical Questions"
   ]
  },
  {
   "cell_type": "markdown",
   "metadata": {
    "id": "bDEZP-jGVyIJ"
   },
   "source": [
    "**Q.1 How can you open a file for writing in Python and write a string to it?**"
   ]
  },
  {
   "cell_type": "code",
   "execution_count": 39,
   "metadata": {
    "id": "kXL5fuPnsXK9"
   },
   "outputs": [],
   "source": [
    "#mode\n",
    "#r >> read mode\n",
    "#w>> write mode\n",
    "#a >> append mode\n",
    "#r+>> both reading and writing"
   ]
  },
  {
   "cell_type": "code",
   "execution_count": 38,
   "metadata": {
    "colab": {
     "base_uri": "https://localhost:8080/"
    },
    "id": "ARD6jV-dZ-Fz",
    "outputId": "15ea590f-20ff-4b29-cfa4-c5055444a62c"
   },
   "outputs": [
    {
     "name": "stdout",
     "output_type": "stream",
     "text": [
      "String written to file successfully.\n"
     ]
    }
   ],
   "source": [
    "#Ans:\n",
    "# Open file 'sample.txt' in write mode ('w')\n",
    "# If file doesn't exist, it will be created\n",
    "with open(\"sample.txt\", \"w\") as file:\n",
    "    # Write a string to the file\n",
    "    file.write(\"Hello, this is a test string.\\n\")\n",
    "\n",
    "print(\"String written to file successfully.\")\n"
   ]
  },
  {
   "cell_type": "markdown",
   "metadata": {
    "id": "EJ3es1PHXfE7"
   },
   "source": [
    "**Q.2  Write a Python program to read the contents of a file and print each line**"
   ]
  },
  {
   "cell_type": "code",
   "execution_count": 37,
   "metadata": {
    "colab": {
     "base_uri": "https://localhost:8080/"
    },
    "id": "4rlt8OsQaz3R",
    "outputId": "de43c828-580b-4611-ee61-84b08238a5b4"
   },
   "outputs": [
    {
     "name": "stdout",
     "output_type": "stream",
     "text": [
      "\n",
      "This line is newly appended."
     ]
    }
   ],
   "source": [
    "#Ans:\n",
    "# Open the file in read mode\n",
    "\n",
    "# Open the file in read mode\n",
    "with open(\"sample.txt\", \"r\") as file:\n",
    "    # Loop through each line in the file\n",
    "    for line in file:\n",
    "        # Print the line without extra newline\n",
    "        print(line, end='')  # end='' avoids adding extra newlines\n",
    "      # print(line.strip())  # strip() removes newline characters or"
   ]
  },
  {
   "cell_type": "markdown",
   "metadata": {
    "id": "JgL1eg2QXfSI"
   },
   "source": [
    "**Q.3 How would you handle a case where the file doesn't exist while trying to open it for reading**"
   ]
  },
  {
   "cell_type": "code",
   "execution_count": 36,
   "metadata": {
    "colab": {
     "base_uri": "https://localhost:8080/"
    },
    "id": "SKEpFVdMa5kL",
    "outputId": "094a6427-e087-4c6c-b038-21766e434e1b"
   },
   "outputs": [
    {
     "name": "stdout",
     "output_type": "stream",
     "text": [
      "Error: The file does not exist.\n"
     ]
    }
   ],
   "source": [
    "#Ans:\n",
    "try:\n",
    "    # Attempt to open a file that may not exist\n",
    "    with open(\"non_existent_file.txt\", \"r\") as file:\n",
    "        content = file.read()\n",
    "except FileNotFoundError:\n",
    "    # Handle the case when file is missing\n",
    "    print(\"Error: The file does not exist.\")"
   ]
  },
  {
   "cell_type": "markdown",
   "metadata": {
    "id": "ZaqcoFn4XfZ9"
   },
   "source": [
    "**Q.4 Write a Python script that reads from one file and writes its content to another fileF**"
   ]
  },
  {
   "cell_type": "code",
   "execution_count": 35,
   "metadata": {
    "colab": {
     "base_uri": "https://localhost:8080/"
    },
    "id": "L3sDfhdCa6cY",
    "outputId": "e159f6d5-f239-4862-a03d-b53641906533"
   },
   "outputs": [
    {
     "name": "stdout",
     "output_type": "stream",
     "text": [
      "Content copied successfully.\n"
     ]
    }
   ],
   "source": [
    "#Ans:\n",
    "try:\n",
    "    # Read content from source file\n",
    "    with open(\"sample.txt\", \"r\") as source_file:\n",
    "        content = source_file.read()\n",
    "    # Write content to destination file\n",
    "    with open(\"copy.txt\", \"w\") as dest_file:\n",
    "        dest_file.write(content)\n",
    "    print(\"Content copied successfully.\")\n",
    "except FileNotFoundError:\n",
    "    print(\"Source file not found.\")\n"
   ]
  },
  {
   "cell_type": "markdown",
   "metadata": {
    "id": "vQtainHLXfid"
   },
   "source": [
    "**Q.5 How would you catch and handle division by zero error in Python**"
   ]
  },
  {
   "cell_type": "code",
   "execution_count": 34,
   "metadata": {
    "colab": {
     "base_uri": "https://localhost:8080/"
    },
    "id": "ySJRlKana9e8",
    "outputId": "4b3acd8b-5624-4e29-b9d6-cdbb8818339c"
   },
   "outputs": [
    {
     "name": "stdout",
     "output_type": "stream",
     "text": [
      "Error: You cannot divide a number by zero.\n"
     ]
    }
   ],
   "source": [
    "#Ans:\n",
    "# This block demonstrates how to handle a ZeroDivisionError in Python\n",
    "\n",
    "try:\n",
    "    # Try dividing a number by zero which will raise an exception\n",
    "    result = 10 / 0\n",
    "    print(\"Result is:\", result)\n",
    "\n",
    "except ZeroDivisionError:\n",
    "    # This block will execute when division by zero is attempted\n",
    "    print(\"Error: You cannot divide a number by zero.\")\n",
    "\n",
    "# Output:\n",
    "# Error: You cannot divide a number by zero."
   ]
  },
  {
   "cell_type": "markdown",
   "metadata": {
    "id": "N6WelunZXfq4"
   },
   "source": [
    "**Q.6   Write a Python program that logs an error message to a log file when a division by zero exception occurs**"
   ]
  },
  {
   "cell_type": "code",
   "execution_count": 33,
   "metadata": {
    "colab": {
     "base_uri": "https://localhost:8080/"
    },
    "id": "u5QObaCGa-s6",
    "outputId": "426def4f-7d9d-4a3a-f9d3-6c8a5c67e357"
   },
   "outputs": [
    {
     "name": "stderr",
     "output_type": "stream",
     "text": [
      "ERROR:root:Division by zero attempted: division by zero\n"
     ]
    },
    {
     "name": "stdout",
     "output_type": "stream",
     "text": [
      "An error occurred: Division by zero. It has been logged.\n"
     ]
    }
   ],
   "source": [
    "#Ans:\n",
    "import logging  # Import logging module\n",
    "\n",
    "# Set up basic logging configuration\n",
    "logging.basicConfig(\n",
    "    filename='division_error.log',      # Log file name\n",
    "    level=logging.ERROR,                # Only log errors and above\n",
    "    format='%(asctime)s - %(levelname)s - %(message)s'  # Format for logs\n",
    ")\n",
    "\n",
    "try:\n",
    "    # Try to perform division\n",
    "    result = 10 / 0  # This will cause a ZeroDivisionError\n",
    "    print(\"Result is:\", result)\n",
    "\n",
    "except ZeroDivisionError as e:\n",
    "    # Handle the exception and log the error to the file\n",
    "    logging.error(\"Division by zero attempted: %s\", e)\n",
    "    print(\"An error occurred: Division by zero. It has been logged.\")\n",
    "\n",
    "# Output:\n",
    "# An error occurred: Division by zero. It has been logged.\n"
   ]
  },
  {
   "cell_type": "markdown",
   "metadata": {
    "id": "9cU1WolvLGuO"
   },
   "source": [
    "**Q.7   How do you log information at different levels (INFO, ERROR, WARNING) in Python using the logging module**"
   ]
  },
  {
   "cell_type": "code",
   "execution_count": 32,
   "metadata": {
    "colab": {
     "base_uri": "https://localhost:8080/"
    },
    "id": "1DRL1zfmG196",
    "outputId": "8de5e27a-cb64-46d1-9447-2e748aa9bff1"
   },
   "outputs": [
    {
     "name": "stderr",
     "output_type": "stream",
     "text": [
      "WARNING:root:This is a WARNING message – something unexpected, but not an error.\n",
      "ERROR:root:This is an ERROR message – an error has occurred.\n",
      "CRITICAL:root:This is a CRITICAL message – serious error, program may not continue.\n"
     ]
    }
   ],
   "source": [
    "#Ans:\n",
    "import logging  # Import logging module\n",
    "\n",
    "# Set up basic configuration to log to console\n",
    "logging.basicConfig(\n",
    "    level=logging.DEBUG,  # Set the lowest level to capture everything from DEBUG and above\n",
    "    format='%(asctime)s - %(levelname)s - %(message)s'  # Format of log messages\n",
    ")\n",
    "\n",
    "# Log messages at different severity levels\n",
    "logging.debug(\"This is a DEBUG message – useful for developers while debugging.\")\n",
    "logging.info(\"This is an INFO message – general information about program execution.\")\n",
    "logging.warning(\"This is a WARNING message – something unexpected, but not an error.\")\n",
    "logging.error(\"This is an ERROR message – an error has occurred.\")\n",
    "logging.critical(\"This is a CRITICAL message – serious error, program may not continue.\")\n",
    "\n",
    "# Output on console:\n",
    "# 2025-06-05 20:21:45,321 - DEBUG - This is a DEBUG message – useful for developers while debugging.\n",
    "# 2025-06-05 20:21:45,321 - INFO - This is an INFO message – general information about program execution.\n",
    "# 2025-06-05 20:21:45,321 - WARNING - This is a WARNING message – something unexpected, but not an error.\n",
    "# 2025-06-05 20:21:45,321 - ERROR - This is an ERROR message – an error has occurred.\n",
    "# 2025-06-05 20:21:45,321 - CRITICAL - This is a CRITICAL message – serious error, program may not continue.\n"
   ]
  },
  {
   "cell_type": "markdown",
   "metadata": {
    "id": "yAlvOd0cXfy9"
   },
   "source": [
    "**Q.8  Write a program to handle a file opening error using exception handling**  "
   ]
  },
  {
   "cell_type": "code",
   "execution_count": 31,
   "metadata": {
    "colab": {
     "base_uri": "https://localhost:8080/"
    },
    "id": "wq2W5zM3a_g5",
    "outputId": "107e3cff-a004-4ed7-cd61-6eb9bdbb7351"
   },
   "outputs": [
    {
     "name": "stdout",
     "output_type": "stream",
     "text": [
      "Error: The file was not found.\n"
     ]
    }
   ],
   "source": [
    "#Ans: This code tries to open a file and handles the error if the file doesn't exist\n",
    "\n",
    "try:\n",
    "    # Try to open a file that may not exist\n",
    "    file = open(\"nonexistent_file.txt\", \"r\")\n",
    "    content = file.read()\n",
    "    print(content)\n",
    "    file.close()\n",
    "except FileNotFoundError:\n",
    "    # Handle the case when file does not exist\n",
    "    print(\"Error: The file was not found.\")\n",
    "\n",
    "# Output:\n",
    "# Error: The file was not found.\n"
   ]
  },
  {
   "cell_type": "markdown",
   "metadata": {
    "id": "uh-jW_eBXf6z"
   },
   "source": [
    "**Q.9   How can you read a file line by line and store its content in a list in Python**"
   ]
  },
  {
   "cell_type": "code",
   "execution_count": 30,
   "metadata": {
    "colab": {
     "base_uri": "https://localhost:8080/"
    },
    "id": "87suP_QQbAPS",
    "outputId": "30e1f1ce-150f-4c75-e772-cfa78c080354"
   },
   "outputs": [
    {
     "name": "stdout",
     "output_type": "stream",
     "text": [
      "Lines stored in list: ['', 'This line is newly appended.']\n"
     ]
    }
   ],
   "source": [
    "#Ans:\n",
    "# We'll read a file and store each line in a list after removing newline characters\n",
    "\n",
    "lines_list = []  # Empty list to store lines\n",
    "\n",
    "try:\n",
    "    with open(\"sample.txt\", \"r\") as file:\n",
    "        for line in file:\n",
    "            # Strip removes trailing newline and spaces\n",
    "            lines_list.append(line.strip())\n",
    "\n",
    "    print(\"Lines stored in list:\", lines_list)\n",
    "\n",
    "except FileNotFoundError:\n",
    "    print(\"Error: The file does not exist.\")\n",
    "\n",
    "# Example Output (if sample.txt has 3 lines):\n",
    "# Lines stored in list: ['Hello, this is a test string.', 'This line is appended.', 'Another test line']\n"
   ]
  },
  {
   "cell_type": "markdown",
   "metadata": {
    "id": "Xj0lkb7-XgC7"
   },
   "source": [
    "**Q.10 How can you append data to an existing file in Python**"
   ]
  },
  {
   "cell_type": "code",
   "execution_count": 29,
   "metadata": {
    "colab": {
     "base_uri": "https://localhost:8080/"
    },
    "id": "ej2q3_WybBbL",
    "outputId": "16ab2d06-cc97-4ec7-aab7-ccdeb4d70060"
   },
   "outputs": [
    {
     "name": "stdout",
     "output_type": "stream",
     "text": [
      "Data appended successfully.\n"
     ]
    }
   ],
   "source": [
    "#Ans:\n",
    "# This code appends new content to an existing file without overwriting its current content\n",
    "\n",
    "try:\n",
    "    with open(\"sample.txt\", \"a\") as file:\n",
    "        file.write(\"\\nThis line is newly appended.\")  # \\n to start from a new line\n",
    "    print(\"Data appended successfully.\")\n",
    "\n",
    "except Exception as e:\n",
    "    print(f\"An error occurred while appending: {e}\")\n",
    "\n",
    "# Output:\n",
    "# Data appended successfully.\n",
    "\n",
    "# (sample.txt will now have this new line added at the end)\n"
   ]
  },
  {
   "cell_type": "markdown",
   "metadata": {
    "id": "3_lPhbtBXgKO"
   },
   "source": [
    "**Q.11 Write a Python program that uses a try-except block to handle an error when attempting to access a dictionary key that doesn't exist**"
   ]
  },
  {
   "cell_type": "code",
   "execution_count": 28,
   "metadata": {
    "colab": {
     "base_uri": "https://localhost:8080/"
    },
    "id": "8Z3dENdDbCed",
    "outputId": "4e72d367-7d11-4d67-ec1d-f553080a6042"
   },
   "outputs": [
    {
     "name": "stdout",
     "output_type": "stream",
     "text": [
      "Error: The key 'Riya' does not exist in the dictionary.\n"
     ]
    }
   ],
   "source": [
    "#Ans:\n",
    "# Dictionary of student marks\n",
    "student_marks = {\n",
    "    \"Siya\": 85,\n",
    "    \"Piya\": 90\n",
    "}\n",
    "\n",
    "try:\n",
    "    # Trying to access a key that doesn't exist\n",
    "    print(\"Marks of Riya:\", student_marks[\"Riya\"])\n",
    "\n",
    "except KeyError:\n",
    "    # Handle the error gracefully\n",
    "    print(\"Error: The key 'Riya' does not exist in the dictionary.\")\n",
    "\n",
    "# Output:\n",
    "# Error: The key 'Riya' does not exist in the dictionary.\n"
   ]
  },
  {
   "cell_type": "markdown",
   "metadata": {
    "id": "Q8Gq0ExwXgRR"
   },
   "source": [
    "**Q.12  Write a program that demonstrates using multiple except blocks to handle different types of exceptions**"
   ]
  },
  {
   "cell_type": "code",
   "execution_count": 27,
   "metadata": {
    "colab": {
     "base_uri": "https://localhost:8080/"
    },
    "id": "yiZLztgCbDvS",
    "outputId": "d18c5f6e-fbcf-4228-b385-9c76f47d72d6"
   },
   "outputs": [
    {
     "name": "stdout",
     "output_type": "stream",
     "text": [
      "Enter first number: 10\n",
      "Enter second number: 0\n",
      "Error: Cannot divide by zero.\n"
     ]
    }
   ],
   "source": [
    "#Ans:\n",
    "try:\n",
    "    # Code that may raise multiple types of exceptions\n",
    "    num1 = int(input(\"Enter first number: \"))\n",
    "    num2 = int(input(\"Enter second number: \"))\n",
    "    result = num1 / num2\n",
    "    print(\"Result:\", result)\n",
    "\n",
    "except ValueError:\n",
    "    # Handles error if input is not a valid integer\n",
    "    print(\"Error: Please enter a valid integer.\")\n",
    "\n",
    "except ZeroDivisionError:\n",
    "    # Handles division by zero error\n",
    "    print(\"Error: Cannot divide by zero.\")\n",
    "\n",
    "except Exception as e:\n",
    "    # Handles any other exceptions not caught above\n",
    "    print(\"An unexpected error occurred:\", e)\n"
   ]
  },
  {
   "cell_type": "markdown",
   "metadata": {
    "id": "n3a9_pktXgXu"
   },
   "source": [
    "**Q.13  How would you check if a file exists before attempting to read it in Python**"
   ]
  },
  {
   "cell_type": "code",
   "execution_count": 26,
   "metadata": {
    "colab": {
     "base_uri": "https://localhost:8080/"
    },
    "id": "XcDhfF6-bEy-",
    "outputId": "a77ec315-05ba-460d-b6be-74aafe411df5"
   },
   "outputs": [
    {
     "name": "stdout",
     "output_type": "stream",
     "text": [
      "File 'example.txt' does not exist.\n"
     ]
    }
   ],
   "source": [
    "#Ans:\n",
    "import os  # Import os module to interact with operating system\n",
    "\n",
    "file_path = \"example.txt\"\n",
    "\n",
    "# Check if file exists\n",
    "if os.path.exists(file_path):\n",
    "    with open(file_path, \"r\") as file:\n",
    "        content = file.read()\n",
    "        print(\"File content:\\n\", content)\n",
    "else:\n",
    "    print(f\"File '{file_path}' does not exist.\")\n",
    "\n",
    "# Output (if file does not exist):\n",
    "# File 'example.txt' does not exist."
   ]
  },
  {
   "cell_type": "markdown",
   "metadata": {
    "id": "W_HHJ6gcXgfC"
   },
   "source": [
    "**Q.14  Write a program that uses the logging module to log both informational and error messages**"
   ]
  },
  {
   "cell_type": "code",
   "execution_count": 25,
   "metadata": {
    "colab": {
     "base_uri": "https://localhost:8080/"
    },
    "id": "133fad30-b55e-41c7-9ff0-3f2f2a6ab285",
    "outputId": "3b1a3d93-7e7e-4031-8190-b778624b9393"
   },
   "outputs": [
    {
     "name": "stderr",
     "output_type": "stream",
     "text": [
      "ERROR:root:Division by zero error occurred.\n"
     ]
    },
    {
     "name": "stdout",
     "output_type": "stream",
     "text": [
      "Logging done. Check 'app.log' file for messages.\n"
     ]
    }
   ],
   "source": [
    "#Ans:\n",
    "import logging\n",
    "\n",
    "# Configure logging to write to a file with INFO level and above\n",
    "logging.basicConfig(\n",
    "    filename='app.log',\n",
    "    level=logging.INFO,\n",
    "    format='%(asctime)s - %(levelname)s - %(message)s'\n",
    ")\n",
    "\n",
    "logging.info(\"This is an informational message.\")  # Log info message\n",
    "\n",
    "try:\n",
    "    x = 5 / 0  # This will raise ZeroDivisionError\n",
    "except ZeroDivisionError:\n",
    "    logging.error(\"Division by zero error occurred.\")  # Log error message\n",
    "\n",
    "print(\"Logging done. Check 'app.log' file for messages.\")\n"
   ]
  },
  {
   "cell_type": "markdown",
   "metadata": {
    "id": "ekEMMoY-XgnR"
   },
   "source": [
    "**Q.15  Write a Python program that prints the content of a file and handles the case when the file is empty**"
   ]
  },
  {
   "cell_type": "code",
   "execution_count": 24,
   "metadata": {
    "colab": {
     "base_uri": "https://localhost:8080/"
    },
    "id": "94a07ef9-e9fd-4d0a-8fc4-d7657d70e3fd",
    "outputId": "e5a13a0d-b7f7-4dae-baec-f5e3f0ac0f36"
   },
   "outputs": [
    {
     "name": "stdout",
     "output_type": "stream",
     "text": [
      "File 'empty_or_not.txt' does not exist.\n"
     ]
    }
   ],
   "source": [
    "# Ans :\n",
    "file_name = \"empty_or_not.txt\"\n",
    "\n",
    "try:\n",
    "    # Open the file in read mode\n",
    "    with open(file_name, \"r\") as file:\n",
    "        content = file.read()  # Read entire content of file\n",
    "\n",
    "        # Check if content is empty or not\n",
    "        if content:\n",
    "            print(\"File content:\\n\", content)  # Print content if not empty\n",
    "        else:\n",
    "            print(\"The file is empty.\")  # Message if file has no content\n",
    "\n",
    "except FileNotFoundError:\n",
    "    # Handle case if the file does not exist\n",
    "    print(f\"File '{file_name}' does not exist.\")"
   ]
  },
  {
   "cell_type": "markdown",
   "metadata": {
    "id": "-AfQkjLKEUAQ"
   },
   "source": [
    "**Q.16  Demonstrate how to use memory profiling to check the memory usage of a small program**"
   ]
  },
  {
   "cell_type": "code",
   "execution_count": 23,
   "metadata": {
    "colab": {
     "base_uri": "https://localhost:8080/"
    },
    "id": "14607948-4927-47c1-8cfc-b94e0d497765",
    "outputId": "95433471-34f7-49b5-ee06-83148d8aff65"
   },
   "outputs": [
    {
     "name": "stdout",
     "output_type": "stream",
     "text": [
      "Collecting memory_profiler\n",
      "  Downloading memory_profiler-0.61.0-py3-none-any.whl.metadata (20 kB)\n",
      "Requirement already satisfied: psutil in /usr/local/lib/python3.11/dist-packages (from memory_profiler) (5.9.5)\n",
      "Downloading memory_profiler-0.61.0-py3-none-any.whl (31 kB)\n",
      "Installing collected packages: memory_profiler\n",
      "Successfully installed memory_profiler-0.61.0\n"
     ]
    },
    {
     "name": "stderr",
     "output_type": "stream",
     "text": [
      "\n",
      "PYDEV DEBUGGER WARNING:\n",
      "sys.settrace() should not be used when the debugger is being used.\n",
      "This may cause the debugger to stop working correctly.\n",
      "If this is needed, please check: \n",
      "http://pydev.blogspot.com/2007/06/why-cant-pydev-debugger-work-with.html\n",
      "to see how to restore the debug tracing back correctly.\n",
      "Call Location:\n",
      "  File \"/usr/local/lib/python3.11/dist-packages/memory_profiler.py\", line 847, in enable\n",
      "    sys.settrace(self.trace_memory_usage)\n",
      "\n",
      "\n",
      "PYDEV DEBUGGER WARNING:\n",
      "sys.settrace() should not be used when the debugger is being used.\n",
      "This may cause the debugger to stop working correctly.\n",
      "If this is needed, please check: \n",
      "http://pydev.blogspot.com/2007/06/why-cant-pydev-debugger-work-with.html\n",
      "to see how to restore the debug tracing back correctly.\n",
      "Call Location:\n",
      "  File \"/usr/local/lib/python3.11/dist-packages/memory_profiler.py\", line 850, in disable\n",
      "    sys.settrace(self._original_trace_function)\n",
      "\n"
     ]
    },
    {
     "name": "stdout",
     "output_type": "stream",
     "text": [
      "ERROR: Could not find file <ipython-input-23-c1aacb03eb6b>\n",
      "NOTE: %mprun can only be used on functions defined in physical files, and not in the IPython environment.\n",
      "Sum of elements: 333333000\n"
     ]
    }
   ],
   "source": [
    "#Ans.\n",
    "\n",
    "!pip install memory_profiler\n",
    "from memory_profiler import profile\n",
    "\n",
    "@profile\n",
    "def my_function():\n",
    "    a = [i for i in range(1000)]  # A list of 1000 numbers\n",
    "    b = [i**2 for i in range(1000)]  # A list of 1000 squared numbers\n",
    "    result = sum(a) + sum(b)  # Simple operation to use memory\n",
    "    print(f\"Sum of elements: {result}\")\n",
    "    return result\n",
    "\n",
    "if __name__ == \"__main__\":\n",
    "    my_function()\n"
   ]
  },
  {
   "cell_type": "markdown",
   "metadata": {
    "id": "0CIbVKJREY33"
   },
   "source": [
    "**Q.17  Write a Python program to create and write a list of numbers to a file, one number per lineF**"
   ]
  },
  {
   "cell_type": "code",
   "execution_count": 17,
   "metadata": {
    "colab": {
     "base_uri": "https://localhost:8080/"
    },
    "id": "1b21b701-e9b5-4fe9-833a-24ac13e6003c",
    "outputId": "332a25b3-669f-4273-f32c-c0e8a23ab7ed"
   },
   "outputs": [
    {
     "name": "stdout",
     "output_type": "stream",
     "text": [
      "Successfully wrote numbers to my_numbers.txt\n"
     ]
    }
   ],
   "source": [
    "#Ans :\n",
    "numbers_list = [10, 20, 30, 40, 50]\n",
    "\n",
    "# Define the file name\n",
    "file_name = \"my_numbers.txt\"\n",
    "\n",
    "# Open the file in write mode ('w')\n",
    "# The 'with' statement ensures the file is closed automatically\n",
    "with open(file_name, 'w') as file:\n",
    "    # Iterate through the list of numbers\n",
    "    for number in numbers_list:\n",
    "        # Write each number to the file followed by a newline character\n",
    "        file.write(f\"{number}\\n\")\n",
    "\n",
    "# Print a confirmation message\n",
    "print(f\"Successfully wrote numbers to {file_name}\")"
   ]
  },
  {
   "cell_type": "markdown",
   "metadata": {
    "id": "dUf5FkykEZtw"
   },
   "source": [
    "**Q.18   How would you implement a basic logging setup that logs to a file with rotation after 1MB**"
   ]
  },
  {
   "cell_type": "code",
   "execution_count": 11,
   "metadata": {
    "colab": {
     "base_uri": "https://localhost:8080/"
    },
    "id": "2d5ae912-0c4c-40cc-9ba3-fae0ac2168d5",
    "outputId": "41c61b46-806d-44a9-95e9-657f7709e21d"
   },
   "outputs": [
    {
     "name": "stderr",
     "output_type": "stream",
     "text": [
      "WARNING:root:This is a warning message.\n",
      "ERROR:root:This is an error message.\n"
     ]
    }
   ],
   "source": [
    "#Ans:\n",
    "import logging\n",
    "from logging.handlers import RotatingFileHandler\n",
    "\n",
    "log_file = 'app.log'\n",
    "\n",
    "handler = RotatingFileHandler(log_file, maxBytes=1*1024*1024, backupCount=3)\n",
    "handler.setLevel(logging.INFO)\n",
    "\n",
    "formatter = logging.Formatter('%(asctime)s - %(levelname)s - %(message)s')\n",
    "handler.setFormatter(formatter)\n",
    "\n",
    "logging.basicConfig(level=logging.INFO, handlers=[handler])\n",
    "\n",
    "logging.info(\"This is an informational message.\")\n",
    "logging.warning(\"This is a warning message.\")\n",
    "logging.error(\"This is an error message.\")\n",
    "\n"
   ]
  },
  {
   "cell_type": "markdown",
   "metadata": {
    "id": "QAUhPjXgGGT_"
   },
   "source": [
    "**Q.19  Write a program that handles both IndexError and KeyError using a try-except blockF**"
   ]
  },
  {
   "cell_type": "code",
   "execution_count": 5,
   "metadata": {
    "colab": {
     "base_uri": "https://localhost:8080/"
    },
    "id": "LmEA6S1EGXx7",
    "outputId": "d1732076-81f5-4c98-a8f7-b2dcc1fe8f33"
   },
   "outputs": [
    {
     "name": "stdout",
     "output_type": "stream",
     "text": [
      "Error: List index out of range.\n"
     ]
    }
   ],
   "source": [
    "#Ans:\n",
    "my_list = [1, 2, 3]\n",
    "my_dict = {'a': 10, 'b': 20}\n",
    "\n",
    "try:\n",
    "    # Access index that may not exist\n",
    "    print(my_list[5])  # This will raise IndexError\n",
    "\n",
    "    # Access key that may not exist\n",
    "    print(my_dict['c'])  # This would raise KeyError if previous line didn't raise\n",
    "\n",
    "except IndexError:\n",
    "    print(\"Error: List index out of range.\")\n",
    "\n",
    "except KeyError:\n",
    "    print(\"Error: Key not found in dictionary.\")"
   ]
  },
  {
   "cell_type": "markdown",
   "metadata": {
    "id": "gPOHUi7GGNPF"
   },
   "source": [
    "**Q.20  How would you open a file and read its contents using a context manager in Python**"
   ]
  },
  {
   "cell_type": "code",
   "execution_count": 4,
   "metadata": {
    "colab": {
     "base_uri": "https://localhost:8080/"
    },
    "id": "lt9mpRa1GkBP",
    "outputId": "3018210a-b451-4e09-a507-8d96b3bee3f4"
   },
   "outputs": [
    {
     "name": "stdout",
     "output_type": "stream",
     "text": [
      "File 'example.txt' not found.\n"
     ]
    }
   ],
   "source": [
    "#Ans:\n",
    "# Using 'with' statement to open and read a file safely\n",
    "file_name = \"example.txt\"\n",
    "\n",
    "try:\n",
    "    with open(file_name, \"r\") as file:\n",
    "        content = file.read()  # Read the entire file content\n",
    "        print(\"File content:\\n\", content)\n",
    "except FileNotFoundError:\n",
    "    print(f\"File '{file_name}' not found.\")\n"
   ]
  },
  {
   "cell_type": "markdown",
   "metadata": {
    "id": "Je2Q4NeoGPH7"
   },
   "source": [
    "**Q.21   Write a Python program that reads a file and prints the number of occurrences of a specific word?**"
   ]
  },
  {
   "cell_type": "code",
   "execution_count": 3,
   "metadata": {
    "colab": {
     "base_uri": "https://localhost:8080/"
    },
    "id": "pgQXnyjsGkgf",
    "outputId": "148c9703-f997-4d22-95c3-f337916d1eeb"
   },
   "outputs": [
    {
     "name": "stdout",
     "output_type": "stream",
     "text": [
      "File 'sample.txt' not found.\n"
     ]
    }
   ],
   "source": [
    "#Ans:\n",
    "file_name = \"sample.txt\"\n",
    "word_to_count = \"python\"\n",
    "\n",
    "try:\n",
    "    with open(file_name, \"r\") as file:\n",
    "        content = file.read().lower()  # Read content and convert to lowercase for case-insensitive search\n",
    "        count = content.count(word_to_count.lower())  # Count occurrences of the word\n",
    "\n",
    "    print(f\"The word '{word_to_count}' occurs {count} times in the file.\")\n",
    "\n",
    "except FileNotFoundError:\n",
    "    print(f\"File '{file_name}' not found.\")"
   ]
  },
  {
   "cell_type": "markdown",
   "metadata": {
    "id": "8YOmpSOMGQuA"
   },
   "source": [
    "**Q.22  How can you check if a file is empty before attempting to read its contents**"
   ]
  },
  {
   "cell_type": "code",
   "execution_count": 2,
   "metadata": {
    "colab": {
     "base_uri": "https://localhost:8080/"
    },
    "id": "Vus2x6RiGlGg",
    "outputId": "a6d29586-8973-4f3b-935d-c0ed2df51d4c"
   },
   "outputs": [
    {
     "name": "stdout",
     "output_type": "stream",
     "text": [
      "File 'check_empty.txt' does not exist.\n"
     ]
    }
   ],
   "source": [
    "#Ans:\n",
    "import os  # To interact with the operating system\n",
    "\n",
    "file_path = \"check_empty.txt\"\n",
    "\n",
    "# Check if file exists first\n",
    "if os.path.exists(file_path):\n",
    "    # Check file size to determine if it's empty\n",
    "    if os.path.getsize(file_path) > 0:\n",
    "        with open(file_path, \"r\") as file:\n",
    "            content = file.read()\n",
    "            print(\"File content:\\n\", content)\n",
    "    else:\n",
    "        print(\"The file is empty.\")\n",
    "else:\n",
    "    print(f\"File '{file_path}' does not exist.\")\n"
   ]
  },
  {
   "cell_type": "markdown",
   "metadata": {
    "id": "uYCuDvC4GTOF"
   },
   "source": [
    "**Q.23   Write a Python program that writes to a log file when an error occurs during file handling**"
   ]
  },
  {
   "cell_type": "code",
   "execution_count": 1,
   "metadata": {
    "colab": {
     "base_uri": "https://localhost:8080/"
    },
    "id": "p6eoLDRIGlrw",
    "outputId": "5ed590fa-23d0-42db-f4f3-db86aef50b5e"
   },
   "outputs": [
    {
     "name": "stderr",
     "output_type": "stream",
     "text": [
      "ERROR:root:File not found error: [Errno 2] No such file or directory: 'non_existent_file.txt'\n"
     ]
    },
    {
     "name": "stdout",
     "output_type": "stream",
     "text": [
      "An error occurred. Check the log file for details.\n"
     ]
    }
   ],
   "source": [
    "#Ans:\n",
    "import logging\n",
    "\n",
    "# Setup logging to file 'file_errors.log' with level ERROR\n",
    "logging.basicConfig(\n",
    "    filename='file_errors.log',\n",
    "    level=logging.ERROR,\n",
    "    format='%(asctime)s - %(levelname)s - %(message)s'\n",
    ")\n",
    "\n",
    "file_name = \"non_existent_file.txt\"\n",
    "\n",
    "try:\n",
    "    with open(file_name, \"r\") as file:\n",
    "        data = file.read()\n",
    "        print(data)\n",
    "except FileNotFoundError as e:\n",
    "    # Log the error message to the log file\n",
    "    logging.error(f\"File not found error: {e}\")\n",
    "    print(\"An error occurred. Check the log file for details.\")"
   ]
  }
 ],
 "metadata": {
  "colab": {
   "collapsed_sections": [
    "m-697u1xVUvQ"
   ],
   "provenance": []
  },
  "kernelspec": {
   "display_name": "Python 3 (ipykernel)",
   "language": "python",
   "name": "python3"
  },
  "language_info": {
   "codemirror_mode": {
    "name": "ipython",
    "version": 3
   },
   "file_extension": ".py",
   "mimetype": "text/x-python",
   "name": "python",
   "nbconvert_exporter": "python",
   "pygments_lexer": "ipython3",
   "version": "3.13.3"
  }
 },
 "nbformat": 4,
 "nbformat_minor": 4
}
