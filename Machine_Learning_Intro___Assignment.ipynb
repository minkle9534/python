{
  "nbformat": 4,
  "nbformat_minor": 0,
  "metadata": {
    "colab": {
      "provenance": []
    },
    "kernelspec": {
      "name": "python3",
      "display_name": "Python 3"
    },
    "language_info": {
      "name": "python"
    }
  },
  "cells": [
    {
      "cell_type": "markdown",
      "source": [
        "Question 1: Explain the differences between AI, ML, Deep Learning (DL), and Data Science (DS).\n",
        "\n",
        "Answer:\n",
        "- Artificial Intelligence (AI):\n",
        "  - Definition: The broad field of making machines simulate human intelligence (reasoning, decision-making, problem-solving, language understanding, etc.).\n",
        "  - Example: A chatbot that answers questions, self-driving cars, fraud detection systems.\n",
        "- Machine Learning (ML)\n",
        "  - Definition: A subset of AI that focuses on building algorithms that learn patterns from data instead of being explicitly programmed.\n",
        "  - Example: Email spam filtering, recommendation systems (Netflix, Amazon).\n",
        "- Deep Learning (DL)\n",
        "  - Definition: A subset of ML that uses neural networks with many layers to automatically extract complex features from raw data.\n",
        "  - Example: Face recognition in photos, speech-to-text systems, ChatGPT.\n",
        "- Data Science (DS)\n",
        "  - Definition: An interdisciplinary field that combines statistics, programming, data engineering, ML/AI, and domain knowledge to extract insights and build data-driven solutions.\n",
        "  - Example: A retail company analyzing customer behavior to optimize sales strategy.\n",
        "\n"
      ],
      "metadata": {
        "id": "bywN7tOJOkDo"
      }
    },
    {
      "cell_type": "markdown",
      "source": [
        "Question 2: What are the types of machine learning? Describe each with one\n",
        "real-world example.\n",
        "\n",
        "Answer:\n",
        "- Supervised Learning\n",
        "  - Definition: The algorithm is trained on a labeled dataset (input + correct output). It learns to map inputs to outputs.\n",
        "  - Example:\n",
        "    - Email Spam Detection → Input: email text, Output: “spam” or “not spam.”\n",
        "    - House Price Prediction → Input: features (size, location), Output: price.\n",
        "- Unsupervised Learning\n",
        "  - Definition: The algorithm is trained on unlabeled data (no outputs given). It finds hidden patterns or structures.\n",
        "  - Example:\n",
        "    - Customer Segmentation in Retail → Group customers into segments (budget shoppers, premium shoppers) based only on purchasing behavior.\n",
        "    - Market Basket Analysis → Finding items frequently bought together.\n",
        "- Reinforcement Learning (RL)\n",
        "  - Definition: The algorithm learns by interacting with an environment, receiving rewards or penalties based on its actions.\n",
        "  - Example:\n",
        "    - Self-Driving Cars → The car (agent) learns to drive safely by receiving rewards (staying in lane) and penalties (crashing).\n",
        "    - Game Playing (AlphaGo) → AI learns to play Go/Chess better than humans by trial and error.\n"
      ],
      "metadata": {
        "id": "pIM2mFysQ7g4"
      }
    },
    {
      "cell_type": "markdown",
      "source": [
        "Question 3: Define overfitting, underfitting, and the bias-variance tradeoff in machine learning.\n",
        "\n",
        "Answer:\n",
        "- Overfitting\n",
        "  - Definition: When a model learns too much from the training data, including noise and random fluctuations, and fails to generalize well to unseen data.\n",
        "  - Example: A decision tree that memorizes every detail of training data but predicts poorly on new inputs.\n",
        "- Underfitting\n",
        "  - Definition: When a model is too simple to capture the underlying patterns in the data, leading to poor performance on both training and test sets.\n",
        "  - Example: Using a linear regression model to fit non-linear data (e.g., predicting house prices when features have non-linear relationships).\n",
        "- Bias-Variance Tradeoff\n",
        "  - Bias: Error due to wrong assumptions in the learning algorithm (too simple model → underfitting).\n",
        "  - Variance: Error due to too much sensitivity to training data (too complex model → overfitting).\n",
        "  - Tradeoff: Low bias → model fits training data well.\n",
        "  - Low variance → model generalizes well to unseen data.\n",
        "  - Goal is to find the sweet spot between bias and variance where the model performs best on both training and test data.\n",
        "  "
      ],
      "metadata": {
        "id": "DXJaGXKcSUgu"
      }
    },
    {
      "cell_type": "markdown",
      "source": [
        "Question 4: What are outliers in a dataset, and list three common techniques for handling them.\n",
        "\n",
        "Answer:\n",
        "- Outliers in a Dataset\n",
        "  - Outliers are data points that significantly deviate from the majority of the dataset.\n",
        "  - They may occur due to data entry errors, measurement errors, or genuine rare events.\n",
        "Common Techniques for Handling Outliers\n",
        "  - Removal / Filtering\n",
        "    - Remove extreme values that are unlikely to be valid.\n",
        "    - Works well when outliers are due to data entry or sensor errors.\n",
        "    - Example: Dropping rows where salary > 1 crore in a dataset of interns.\n",
        "  - Transformation (Capping / Winsorization / Scaling)\n",
        "    - Apply transformations to reduce the effect of outliers.\n",
        "    - Log transformation (e.g., skewed income data).\n",
        "    - This reduces the influence of extreme values without dropping data.\n",
        "  - Imputation / Replacement\n",
        "    - Replace outliers with statistical measures like mean, median, or mode.\n",
        "    - Median is often preferred since it’s less affected by outliers.\n",
        "    - Example: Replace extreme age values (like 200 years) with the median age.\n"
      ],
      "metadata": {
        "id": "aHczce-qT5Fa"
      }
    },
    {
      "cell_type": "markdown",
      "source": [
        "Question 5: Explain the process of handling missing values and mention one\n",
        "imputation technique for numerical and one for categorical data.\n",
        "\n",
        "Answer:\n",
        "- To handle missing values, first identify them, analyze why they are missing, and then choose a strategy such as deletion or imputation. For numerical data, a common technique is median imputation, and for categorical data, mode imputation is often used."
      ],
      "metadata": {
        "id": "UrYY37BHXr0m"
      }
    },
    {
      "cell_type": "code",
      "source": [
        "# Question 6: Write a Python program that:\n",
        " # ● Creates a synthetic imbalanced dataset with make_classification() from sklearn.datasets.\n",
        " # ● Prints the class distribution.\n",
        " # (Include your Python code and output in the code box below.)\n",
        "\n",
        "from sklearn.datasets import make_classification\n",
        "from collections import Counter\n",
        "import pandas as pd\n",
        "# Create a synthetic imbalanced dataset\n",
        "X, y = make_classification(\n",
        "    n_samples=1000,        # total samples\n",
        "    n_features=10,         # number of features\n",
        "    n_informative=5,       # number of informative features\n",
        "    n_redundant=2,         # number of redundant features\n",
        "    n_classes=2,           # binary classification\n",
        "    weights=[0.9, 0.1],    # imbalance: 90% class 0, 10% class 1\n",
        "    random_state=42\n",
        ")\n",
        "# Print class distribution\n",
        "class_counts = Counter(y)\n",
        "print(\"Class distribution:\", class_counts)\n",
        "\n",
        "# Output:\n",
        "  # Class distribution: Counter({np.int64(0): 896, np.int64(1): 104})"
      ],
      "metadata": {
        "colab": {
          "base_uri": "https://localhost:8080/"
        },
        "id": "LwhO-sHTZLtX",
        "outputId": "4f9312f7-1487-4825-8d9f-e72d782c3949"
      },
      "execution_count": null,
      "outputs": [
        {
          "output_type": "stream",
          "name": "stdout",
          "text": [
            "Class distribution: Counter({np.int64(0): 896, np.int64(1): 104})\n"
          ]
        }
      ]
    },
    {
      "cell_type": "code",
      "source": [
        "# Question 7: Implement one-hot encoding using pandas for the following list of colors: ['Red', 'Green', 'Blue', 'Green', 'Red']. Print the resulting dataframe. (Include your Python code and output in the code box below.)\n",
        "\n",
        "import pandas as pd\n",
        "# Input list of colors\n",
        "colors = ['Red', 'Green', 'Blue', 'Green', 'Red']\n",
        "# Create a DataFrame\n",
        "df = pd.DataFrame({'Color': colors})\n",
        "# Apply one-hot encoding\n",
        "one_hot = pd.get_dummies(df['Color'])\n",
        "# Combine with original dataframe (optional)\n",
        "result = pd.concat([df, one_hot], axis=1)\n",
        "# Print result\n",
        "print(result)\n",
        "\n",
        "# Output:\n",
        "#    Color   Blue  Green    Red\n",
        "# 0    Red  False  False   True\n",
        "# 1  Green  False   True  False\n",
        "# 2   Blue   True  False  False\n",
        "# 3  Green  False   True  False\n",
        "# 4    Red  False  False   True\n"
      ],
      "metadata": {
        "colab": {
          "base_uri": "https://localhost:8080/"
        },
        "id": "9CoaYx-2Z5tj",
        "outputId": "505d029e-64e1-419a-e39a-7d7f828f4b62"
      },
      "execution_count": null,
      "outputs": [
        {
          "output_type": "stream",
          "name": "stdout",
          "text": [
            "   Color   Blue  Green    Red\n",
            "0    Red  False  False   True\n",
            "1  Green  False   True  False\n",
            "2   Blue   True  False  False\n",
            "3  Green  False   True  False\n",
            "4    Red  False  False   True\n"
          ]
        }
      ]
    },
    {
      "cell_type": "code",
      "source": [
        "# Question 8: Write a Python script to:\n",
        "# ● Generate 1000 samples from a normal distribution.\n",
        "# ● Introduce 50 random missing values.\n",
        "# ● Fill missing values with the column mean.\n",
        "# ● Plot a histogram before and after imputation.\n",
        "# (Include your Python code and output in the code box below.)\n",
        "\n",
        "import numpy as np\n",
        "import pandas as pd\n",
        "import matplotlib.pyplot as plt\n",
        "# Step 1: Generate 1000 samples from a normal distribution\n",
        "np.random.seed(42)\n",
        "data = np.random.normal(loc=50, scale=10, size=1000)\n",
        "# Step 2: Introduce 50 random missing values\n",
        "data_with_nan = data.copy()\n",
        "missing_indices = np.random.choice(1000, 50, replace=False)\n",
        "data_with_nan[missing_indices] = np.nan\n",
        "# Convert to DataFrame\n",
        "df = pd.DataFrame({\"Values\": data_with_nan})\n",
        "# Step 3: Fill missing values with column mean\n",
        "mean_value = df[\"Values\"].mean()\n",
        "df_filled = df.fillna(mean_value)\n",
        "# Step 4: Plot histogram before and after imputation\n",
        "plt.figure(figsize=(12,5))\n",
        "# Before imputation\n",
        "plt.subplot(1,2,1)\n",
        "plt.hist(df[\"Values\"].dropna(), bins=30, edgecolor=\"black\")\n",
        "plt.title(\"Before Imputation\")\n",
        "plt.xlabel(\"Value\")\n",
        "plt.ylabel(\"Frequency\")\n",
        "# After imputation\n",
        "plt.subplot(1,2,2)\n",
        "plt.hist(df_filled[\"Values\"], bins=30, edgecolor=\"black\", color=\"orange\")\n",
        "plt.title(\"After Imputation\")\n",
        "plt.xlabel(\"Value\")\n",
        "plt.ylabel(\"Frequency\")\n",
        "\n",
        "plt.tight_layout()\n",
        "plt.show()\n",
        "# Print confirmation\n",
        "print(\"Number of missing values before imputation:\", df[\"Values\"].isnull().sum())\n",
        "print(\"Number of missing values after imputation:\", df_filled[\"Values\"].isnull().sum())\n",
        "\n",
        "# Output\n",
        "  # Number of missing values before imputation: 50\n",
        "  # Number of missing values after imputation: 0"
      ],
      "metadata": {
        "id": "474h05opa3fK",
        "colab": {
          "base_uri": "https://localhost:8080/",
          "height": 542
        },
        "outputId": "10e4e628-cdef-4271-98ac-f1afe6cd32aa"
      },
      "execution_count": null,
      "outputs": [
        {
          "output_type": "display_data",
          "data": {
            "text/plain": [
              "<Figure size 1200x500 with 2 Axes>"
            ],
            "image/png": "[encoded data removed]"
          },
          "metadata": {}
        },
        {
          "output_type": "stream",
          "name": "stdout",
          "text": [
            "Number of missing values before imputation: 50\n",
            "Number of missing values after imputation: 0\n"
          ]
        }
      ]
    },
    {
      "cell_type": "code",
      "source": [
        "# Question 9: Implement Min-Max scaling on the following list of numbers [2, 5, 10, 15, 20] using sklearn.preprocessing.MinMaxScaler. Print the scaled array. (Include your Python code and output in the code box below.)\n",
        "\n",
        "from sklearn.preprocessing import MinMaxScaler\n",
        "import numpy as np\n",
        "# Input data\n",
        "data = np.array([[2], [5], [10], [15], [20]])\n",
        "# Initialize Min-Max Scaler\n",
        "scaler = MinMaxScaler()\n",
        "# Fit and transform the data\n",
        "scaled_data = scaler.fit_transform(data)\n",
        "# Print result\n",
        "print(\"Original Data:\\n\", data.flatten())\n",
        "print(\"Scaled Data:\\n\", scaled_data.flatten())\n",
        "\n",
        "# Output\n",
        "  # Original Data: [ 2  5 10 15 20]\n",
        "  # Scaled Data:   [0.         0.16666667 0.44444444 0.72222222 1.        ]\n"
      ],
      "metadata": {
        "colab": {
          "base_uri": "https://localhost:8080/"
        },
        "id": "xxdFlZBW-sMS",
        "outputId": "92513640-c046-41fc-c4fa-e74ec9411c08"
      },
      "execution_count": null,
      "outputs": [
        {
          "output_type": "stream",
          "name": "stdout",
          "text": [
            "Original Data:\n",
            " [ 2  5 10 15 20]\n",
            "Scaled Data:\n",
            " [0.         0.16666667 0.44444444 0.72222222 1.        ]\n"
          ]
        }
      ]
    },
    {
      "cell_type": "code",
      "source": [
        "# Question 10: You are working as a data scientist for a retail company. You receive a customer transaction dataset that contains:\n",
        "# ● Missing ages,\n",
        "# ● Outliers in transaction amount,\n",
        "# ● A highly imbalanced target (fraud vs. non-fraud),\n",
        "# ● Categorical variables like payment method.\n",
        "# Explain the step-by-step data preparation plan you’d follow before training a machine learning model. Include how you’d address missing data, outliers, imbalance, and encoding.\n",
        "# (Include your Python code and output in the code box below.)\n",
        "\n",
        "# Step by Step Data Preparation Plan\n",
        "#  1. Handle Missing Data (e.g., Missing Ages)\n",
        "#       If missing randomly, then impute with median\n",
        "#       If related to other variables, then Use predictive imputation\n",
        "#  2. Handle Outliers (Transaction Amount)\n",
        "#       Use IQR method, Cap (Winsorization), Transform skewed values\n",
        "#  3. Handle Imbalanced Target (Fraud vs Non-Fraud)\n",
        "#       Techniques: Oversampling minority class (e.g., SMOTE), Undersampling majority class, Class weights in model training.\n",
        "#  4. Encode Categorical Variables (e.g., Payment Method)\n",
        "#       Low-cardinality categorical: One-hot encoding.\n",
        "#       High-cardinality categorical: Target encoding or frequency encoding.\n",
        "\n",
        "#Python Example\n",
        "import pandas as pd\n",
        "import numpy as np\n",
        "from sklearn.impute import SimpleImputer\n",
        "from sklearn.preprocessing import OneHotEncoder, StandardScaler\n",
        "from sklearn.model_selection import train_test_split\n",
        "from imblearn.over_sampling import SMOTE\n",
        "# Example synthetic dataset\n",
        "data = {\n",
        "    \"Age\": [25, np.nan, 40, 35, np.nan, 60, 28],\n",
        "    \"TransactionAmount\": [20, 5000, 50, 70, 100000, 65, 45],\n",
        "    \"PaymentMethod\": [\"Card\", \"Cash\", \"Card\", \"Wallet\", \"Cash\", \"Wallet\", \"Card\"],\n",
        "    \"Fraud\": [0, 0, 0, 1, 0, 0, 1]\n",
        "}\n",
        "df = pd.DataFrame(data)\n",
        "print(\"Original Dataset:\\n\", df, \"\\n\")\n",
        "# 1. Handle Missing Ages (Median Imputation)\n",
        "imputer = SimpleImputer(strategy=\"median\")\n",
        "df[\"Age\"] = imputer.fit_transform(df[[\"Age\"]])\n",
        "# 2. Handle Outliers (Cap at 95th percentile)\n",
        "cap = df[\"TransactionAmount\"].quantile(0.95)\n",
        "df[\"TransactionAmount\"] = np.where(df[\"TransactionAmount\"] > cap, cap, df[\"TransactionAmount\"])\n",
        "# 3. Encode Categorical Variable (One-Hot Encoding for PaymentMethod)\n",
        "df = pd.get_dummies(df, columns=[\"PaymentMethod\"], drop_first=True)\n",
        "# 4. Split features & target\n",
        "X = df.drop(\"Fraud\", axis=1)\n",
        "y = df[\"Fraud\"]\n",
        "# 5. Handle Imbalanced Target (SMOTE Oversampling)\n",
        "smote = SMOTE(random_state=42, k_neighbors=1)\n",
        "X_res, y_res = smote.fit_resample(X, y)\n",
        "# 6. Scale Features\n",
        "scaler = StandardScaler()\n",
        "X_res_scaled = scaler.fit_transform(X_res)\n",
        "# Final Output\n",
        "print(\"Processed Features (after scaling):\\n\", X_res_scaled[:5])\n",
        "print(\"Resampled Target Distribution:\\n\", pd.Series(y_res).value_counts())\n",
        "\n",
        "# Output\n",
        "# Original Dataset:\n",
        "#     Age  TransactionAmount PaymentMethod  Fraud\n",
        "# 0  25.0                 20          Card      0\n",
        "# 1   NaN               5000          Cash      0\n",
        "# 2  40.0                 50          Card      0\n",
        "# 3  35.0                 70        Wallet      1\n",
        "# 4   NaN             100000          Cash      0\n",
        "# 5  60.0                 65        Wallet      0\n",
        "# 6  28.0                 45          Card      1\n",
        "\n",
        "# Processed Features (after scaling):\n",
        "#  [[-1.17275626 -0.35992208 -0.5        -1.        ]\n",
        "#  [-0.06633903 -0.12633737  2.         -1.        ]\n",
        "#  [ 0.48686958 -0.35851494 -0.5        -1.        ]\n",
        "#  [-0.06633903 -0.35757685 -0.5         1.        ]\n",
        "#  [-0.06633903  2.99281595  2.         -1.        ]]\n",
        "# Resampled Target Distribution:\n",
        "#  Fraud\n",
        "# 0    5\n",
        "# 1    5\n",
        "# Name: count, dtype: int64\n"
      ],
      "metadata": {
        "colab": {
          "base_uri": "https://localhost:8080/"
        },
        "id": "s_RRIUig_Yg3",
        "outputId": "79b2862d-bbf8-423c-aeca-b7d6604e26b4"
      },
      "execution_count": null,
      "outputs": [
        {
          "output_type": "stream",
          "name": "stdout",
          "text": [
            "Original Dataset:\n",
            "     Age  TransactionAmount PaymentMethod  Fraud\n",
            "0  25.0                 20          Card      0\n",
            "1   NaN               5000          Cash      0\n",
            "2  40.0                 50          Card      0\n",
            "3  35.0                 70        Wallet      1\n",
            "4   NaN             100000          Cash      0\n",
            "5  60.0                 65        Wallet      0\n",
            "6  28.0                 45          Card      1 \n",
            "\n",
            "Processed Features (after scaling):\n",
            " [[-1.17275626 -0.35992208 -0.5        -1.        ]\n",
            " [-0.06633903 -0.12633737  2.         -1.        ]\n",
            " [ 0.48686958 -0.35851494 -0.5        -1.        ]\n",
            " [-0.06633903 -0.35757685 -0.5         1.        ]\n",
            " [-0.06633903  2.99281595  2.         -1.        ]]\n",
            "Resampled Target Distribution:\n",
            " Fraud\n",
            "0    5\n",
            "1    5\n",
            "Name: count, dtype: int64\n"
          ]
        }
      ]
    },
    {
      "cell_type": "markdown",
      "source": [],
      "metadata": {
        "id": "k081-Y_iSSD8"
      }
    }
  ]
}