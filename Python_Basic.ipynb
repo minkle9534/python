{
  "nbformat": 4,
  "nbformat_minor": 0,
  "metadata": {
    "colab": {
      "provenance": []
    },
    "kernelspec": {
      "name": "python3",
      "display_name": "Python 3"
    },
    "language_info": {
      "name": "python"
    }
  },
  "cells": [
    {
      "cell_type": "markdown",
      "source": [
        "**Python Basics Questions**"
      ],
      "metadata": {
        "id": "mwkQO69DR36i"
      }
    },
    {
      "cell_type": "markdown",
      "source": [
        "1. What is Python, and why is it popular?\n",
        "   - Python is a high-level, interpreted programming language known for its simplicity and readability. It is popular because of its:\n",
        "    - Easy-to-learn syntax\n",
        "    - Large standard library\n",
        "    - Community support\n",
        "    - Wide usage in web development, data science, automation and more."
      ],
      "metadata": {
        "id": "PU48VimDSDd8"
      }
    },
    {
      "cell_type": "markdown",
      "source": [
        "2. What is an interpreter in Python?\n",
        "  - An interpreter in Python is a program that executes Python code line by line by converting it into machine-readable instructions."
      ],
      "metadata": {
        "id": "VBa93dBxTPZw"
      }
    },
    {
      "cell_type": "markdown",
      "source": [
        "3. What are pre-defined keywords in Python?\n",
        "  - Pre-defined keywords are reserved words that have special meanings and cannot be used for variable names. Examples:  if, else, for, while, True, False etc."
      ],
      "metadata": {
        "id": "ChLFNuPwUXX0"
      }
    },
    {
      "cell_type": "markdown",
      "source": [
        "4. Can keywords be used as variable names?\n",
        "  - No, keywords cannot be used as variable names because they are reserved for specific use in Python."
      ],
      "metadata": {
        "id": "9DHzjC06U21g"
      }
    },
    {
      "cell_type": "markdown",
      "source": [
        "5. What is mutability in Python?\n",
        "  - Mutability means whether or not an object can be changed after it is created."
      ],
      "metadata": {
        "id": "sNPfzDmjVLPm"
      }
    },
    {
      "cell_type": "markdown",
      "source": [
        "6. Why are lists mutable, but tuples are immutable?\n",
        "  - Lists are mutable because they are designed to allow modification in their contents. Tuples are immutable to ensure data integrity and enable them to be used as dictionary keys."
      ],
      "metadata": {
        "id": "Xx1XCuO8VgAc"
      }
    },
    {
      "cell_type": "markdown",
      "source": [
        "7. What is the difference between “==” and “is” operators in Python?\n",
        "  - `==` checks if the values of two variables are equal.\n",
        "  - `is` checks if two variables refer to the same object in memory."
      ],
      "metadata": {
        "id": "ePEDCgBeVyHm"
      }
    },
    {
      "cell_type": "markdown",
      "source": [
        "8. What are logical operators in Python?\n",
        "  - Logical operators are used to combine conditional statements:\n",
        "  - `and`: True if both operands are true\n",
        "  - `or`: True if at least one operand is true\n",
        "  - `not`: Reverses the result"
      ],
      "metadata": {
        "id": "AgoLSQN0WIyQ"
      }
    },
    {
      "cell_type": "markdown",
      "source": [
        "9. What is type casting in Python?\n",
        "  - Type casting is converting one data type to another."
      ],
      "metadata": {
        "id": "ceLH3LJbWipz"
      }
    },
    {
      "cell_type": "markdown",
      "source": [
        "10. What is the difference between implicit and explicit type casting?\n",
        "  - Implicit type casting is done automatically by Python.\n",
        "  - Explicit type casting is done manually using functions like int(), float(), str()."
      ],
      "metadata": {
        "id": "U2iCL3xZWra5"
      }
    },
    {
      "cell_type": "markdown",
      "source": [
        "11. What is the purpose of conditional statements in Python?\n",
        "  - It is used to execute code only when certain conditions are met using keywords like if, elif and else."
      ],
      "metadata": {
        "id": "8q3yrv9NW3lz"
      }
    },
    {
      "cell_type": "markdown",
      "source": [
        "12. How does the elif statement work?\n",
        "  - The elif statement checks multiple expressions for True and executes the block of code as soon as one of the conditions is true."
      ],
      "metadata": {
        "id": "LYlkSpcXXbH0"
      }
    },
    {
      "cell_type": "markdown",
      "source": [
        "13. What is the difference between for and while loops?\n",
        "  - for loop is used for iterating over a sequence.\n",
        "  - while loop runs as long as the condition is true."
      ],
      "metadata": {
        "id": "PUxQYCJwXrgo"
      }
    },
    {
      "cell_type": "markdown",
      "source": [
        "14. Describe a scenario where a while loop is more suitable than a for loop?\n",
        "  - A while loop is better when the number of iterations is not known or when the iteration is based on condition."
      ],
      "metadata": {
        "id": "017IwvgpYFyb"
      }
    },
    {
      "cell_type": "markdown",
      "source": [
        "**Practical Questions**"
      ],
      "metadata": {
        "id": "fgAYgq2SYgC2"
      }
    },
    {
      "cell_type": "code",
      "source": [
        "# 1. Write a Python program to print \"Hello, World!\"\n",
        "\n",
        "print(\"Hello, World!\")"
      ],
      "metadata": {
        "colab": {
          "base_uri": "https://localhost:8080/"
        },
        "id": "YhnspMQOZEfO",
        "outputId": "ba181b55-f5f1-4f16-9c2c-28377cee0dd9"
      },
      "execution_count": 1,
      "outputs": [
        {
          "output_type": "stream",
          "name": "stdout",
          "text": [
            "Hello, World!\n"
          ]
        }
      ]
    },
    {
      "cell_type": "code",
      "source": [
        "# 2. Write a Python program that displays your name and age.\n",
        "\n",
        "name = 'Minkle'\n",
        "age = '25'\n",
        "print(f\"Name is {name} and Age is {age}.\")\n"
      ],
      "metadata": {
        "colab": {
          "base_uri": "https://localhost:8080/"
        },
        "id": "NMGKLOfeZaA6",
        "outputId": "0fa588be-5507-469e-efd1-fae2b058ce42"
      },
      "execution_count": 11,
      "outputs": [
        {
          "output_type": "stream",
          "name": "stdout",
          "text": [
            "Name is Minkle and Age is 25.\n"
          ]
        }
      ]
    },
    {
      "cell_type": "code",
      "source": [
        "# 3. Write code to print all the pre-defined keywords in Python using the keyword library.\n",
        "\n",
        "import keyword\n",
        "print(keyword.kwlist)"
      ],
      "metadata": {
        "colab": {
          "base_uri": "https://localhost:8080/"
        },
        "id": "U_Odn49sae6j",
        "outputId": "b6a8e7aa-974f-4f6e-c48a-a0f3e53f5b95"
      },
      "execution_count": 12,
      "outputs": [
        {
          "output_type": "stream",
          "name": "stdout",
          "text": [
            "['False', 'None', 'True', 'and', 'as', 'assert', 'async', 'await', 'break', 'class', 'continue', 'def', 'del', 'elif', 'else', 'except', 'finally', 'for', 'from', 'global', 'if', 'import', 'in', 'is', 'lambda', 'nonlocal', 'not', 'or', 'pass', 'raise', 'return', 'try', 'while', 'with', 'yield']\n"
          ]
        }
      ]
    },
    {
      "cell_type": "code",
      "source": [
        "# 4. Write a program that checks if a given word is a Python keyword.\n",
        "\n",
        "import keyword\n",
        "word = input('Enter Given Word: ')\n",
        "if keyword.iskeyword(word) == True:\n",
        "  print('Given word is a Python keyword')\n",
        "else:\n",
        "  print('Given word is not Python keyword')"
      ],
      "metadata": {
        "colab": {
          "base_uri": "https://localhost:8080/"
        },
        "id": "zHNFYN5yawrJ",
        "outputId": "d69f6873-a702-414b-a976-45d669a4d298"
      },
      "execution_count": 17,
      "outputs": [
        {
          "output_type": "stream",
          "name": "stdout",
          "text": [
            "Enter Given Word: for\n",
            "Given word is a Python keyword\n"
          ]
        }
      ]
    },
    {
      "cell_type": "code",
      "source": [
        "# 5. Create a list and tuple in Python, and demonstrate how attempting to change an element works differently for each.\n",
        "\n",
        "lst = [1,2,3,4,5]\n",
        "tpl = (1,2,3,4,5)\n",
        "lst[0]=0\n",
        "print(lst)\n",
        "# tpl[0]=0      #Getting TypeError\n",
        "print(tpl)"
      ],
      "metadata": {
        "colab": {
          "base_uri": "https://localhost:8080/"
        },
        "id": "DqyCF8pacP05",
        "outputId": "a183b64d-6ee1-4b47-dc7e-ebc1df878acd"
      },
      "execution_count": 27,
      "outputs": [
        {
          "output_type": "stream",
          "name": "stdout",
          "text": [
            "[0, 2, 3, 4, 5]\n",
            "(1, 2, 3, 4, 5)\n"
          ]
        }
      ]
    },
    {
      "cell_type": "code",
      "source": [
        "# 6. Write a function to demonstrate the behavior of mutable and immutable arguments.\n",
        "\n",
        "def modify(a):\n",
        "  a.append(6)\n",
        "def add(a):\n",
        "  a = a+1\n",
        "lst = [1,2,3,4,5]\n",
        "num = 10\n",
        "modify(lst)\n",
        "add(num)\n",
        "print(lst)\n",
        "print(num)"
      ],
      "metadata": {
        "colab": {
          "base_uri": "https://localhost:8080/"
        },
        "id": "n3in8m2PdeD0",
        "outputId": "9d068514-c14d-458b-a058-f7b5a9138704"
      },
      "execution_count": 32,
      "outputs": [
        {
          "output_type": "stream",
          "name": "stdout",
          "text": [
            "[1, 2, 3, 4, 5, 6]\n",
            "11\n"
          ]
        }
      ]
    },
    {
      "cell_type": "code",
      "source": [
        "# 7. Write a program that performs basic arithmetic operations on two user-input numbers.\n",
        "\n",
        "a = float(input(\"Enter first number: \"))\n",
        "b = float(input(\"Enter second number: \"))\n",
        "print(\"Add:\", a + b)\n",
        "print(\"Subtract:\", a - b)\n",
        "print(\"Multiply:\", a * b)\n",
        "print(\"Divide:\", a / b)"
      ],
      "metadata": {
        "id": "23DEzqsUhqxw"
      },
      "execution_count": null,
      "outputs": []
    },
    {
      "cell_type": "code",
      "source": [
        "# 8. Write a program to demonstrate the use of logical operators.\n",
        "\n",
        "a = 10\n",
        "b = 5\n",
        "print(a > 5 and b > 2)\n",
        "print(a > 15 or b > 2)\n",
        "print(not(a > 15))"
      ],
      "metadata": {
        "colab": {
          "base_uri": "https://localhost:8080/"
        },
        "id": "ek85SpKthtI1",
        "outputId": "6f7574cd-5365-40ca-ce90-5cc90ac5c628"
      },
      "execution_count": 34,
      "outputs": [
        {
          "output_type": "stream",
          "name": "stdout",
          "text": [
            "True\n",
            "True\n",
            "True\n"
          ]
        }
      ]
    },
    {
      "cell_type": "code",
      "source": [
        "# 9. Write a Python program to convert user input from string to integer, float, and boolean types.\n",
        "\n",
        "a = input(\"Enter a value: \")\n",
        "print(\"As int:\", int(a))\n",
        "print(\"As float:\", float(a))\n",
        "print(\"As bool:\", bool(a))"
      ],
      "metadata": {
        "id": "gOD8xcbyizQt"
      },
      "execution_count": null,
      "outputs": []
    },
    {
      "cell_type": "code",
      "source": [
        "# 10. Write code to demonstrate type casting with list elements.\n",
        "\n",
        "lst = ['1', '2', '3']\n",
        "i=0\n",
        "for a in lst:\n",
        "  lst[i]=int(a)\n",
        "  i+=1\n",
        "print(lst)"
      ],
      "metadata": {
        "colab": {
          "base_uri": "https://localhost:8080/"
        },
        "id": "2IDKQneuiz2B",
        "outputId": "d6ff878b-2595-47d0-c1f6-674babeddf91"
      },
      "execution_count": 46,
      "outputs": [
        {
          "output_type": "stream",
          "name": "stdout",
          "text": [
            "[1, 2, 3]\n"
          ]
        }
      ]
    },
    {
      "cell_type": "code",
      "source": [
        "# 11. Write a program that checks if a number is positive, negative, or zero.\n",
        "\n",
        "n = float(input(\"Enter a number: \"))\n",
        "if n > 0:\n",
        "    print(\"Positive\")\n",
        "elif n < 0:\n",
        "    print(\"Negative\")\n",
        "else:\n",
        "    print(\"Zero\")"
      ],
      "metadata": {
        "colab": {
          "base_uri": "https://localhost:8080/"
        },
        "id": "zAeUzNh2jsQ9",
        "outputId": "11389edf-0052-42d9-bc23-7b326a29c2a8"
      },
      "execution_count": 49,
      "outputs": [
        {
          "output_type": "stream",
          "name": "stdout",
          "text": [
            "Enter a number: 2\n",
            "Positive\n"
          ]
        }
      ]
    },
    {
      "cell_type": "code",
      "source": [
        "# 12. Write a for loop to print numbers from 1 to 10.\n",
        "\n",
        "for i in range(1, 11):\n",
        "    print(i)"
      ],
      "metadata": {
        "colab": {
          "base_uri": "https://localhost:8080/"
        },
        "id": "_lwVtMkekBY-",
        "outputId": "8a5cd3ea-7dbb-49f6-fe74-7ec8f7f16bbe"
      },
      "execution_count": 51,
      "outputs": [
        {
          "output_type": "stream",
          "name": "stdout",
          "text": [
            "1\n",
            "2\n",
            "3\n",
            "4\n",
            "5\n",
            "6\n",
            "7\n",
            "8\n",
            "9\n",
            "10\n"
          ]
        }
      ]
    },
    {
      "cell_type": "code",
      "source": [
        "# 13. Write a Python program to find the sum of all even numbers between 1 and 50.\n",
        "\n",
        "#Ans1\n",
        "i = 0\n",
        "for a in range(1,51):\n",
        "  if a%2 == 0:\n",
        "    i += a\n",
        "print(i)\n",
        "\n",
        "#Ans2\n",
        "i=0\n",
        "for a in range(2,51,2):\n",
        "  i += a\n",
        "print(i)"
      ],
      "metadata": {
        "colab": {
          "base_uri": "https://localhost:8080/"
        },
        "id": "JyV1HcsjkTeN",
        "outputId": "a071e37d-61ea-4dff-d3c8-195bbc0dfe54"
      },
      "execution_count": 54,
      "outputs": [
        {
          "output_type": "stream",
          "name": "stdout",
          "text": [
            "650\n",
            "650\n"
          ]
        }
      ]
    },
    {
      "cell_type": "code",
      "source": [
        "# 14. Write a program to reverse a string using a while loop.\n",
        "\n",
        "a = input(\"Enter string value: \")\n",
        "rev_a = ''\n",
        "i = len(a)-1\n",
        "while(i>=0):\n",
        "  rev_a = rev_a + a[i]\n",
        "  i -= 1\n",
        "print(rev_a)"
      ],
      "metadata": {
        "colab": {
          "base_uri": "https://localhost:8080/"
        },
        "id": "OMbgxel0lUOp",
        "outputId": "151612a7-fe85-4189-e77c-e19c89801702"
      },
      "execution_count": 60,
      "outputs": [
        {
          "output_type": "stream",
          "name": "stdout",
          "text": [
            "Enter te string value: abc\n",
            "cba\n"
          ]
        }
      ]
    },
    {
      "cell_type": "code",
      "source": [
        "# 15. Write a Python program to calculate the factorial of a number provided by the user using a while loop.\n",
        "\n",
        "a = int(input(\"Enter a number: \"))\n",
        "i = 1\n",
        "fact = 1\n",
        "while(i<=a):\n",
        "  fact = fact*i\n",
        "  i += 1\n",
        "print(fact)"
      ],
      "metadata": {
        "colab": {
          "base_uri": "https://localhost:8080/"
        },
        "id": "XfCpjShPouFl",
        "outputId": "e4c63264-3fe8-4e82-9912-b84e1453434e"
      },
      "execution_count": 66,
      "outputs": [
        {
          "output_type": "stream",
          "name": "stdout",
          "text": [
            "Enter a number: 3\n",
            "6\n"
          ]
        }
      ]
    },
    {
      "cell_type": "code",
      "source": [],
      "metadata": {
        "id": "VADpKTtLoyFa"
      },
      "execution_count": null,
      "outputs": []
    }
  ]
}